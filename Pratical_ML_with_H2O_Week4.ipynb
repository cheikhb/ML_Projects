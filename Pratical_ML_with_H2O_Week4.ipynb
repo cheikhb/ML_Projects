{
  "nbformat": 4,
  "nbformat_minor": 0,
  "metadata": {
    "colab": {
      "name": "Pratical_ML_with_H2O_Week4.ipynb",
      "provenance": [],
      "authorship_tag": "ABX9TyPurxIgJ/Ec3Rg0XZBAHWkY",
      "include_colab_link": true
    },
    "kernelspec": {
      "name": "python3",
      "display_name": "Python 3"
    }
  },
  "cells": [
    {
      "cell_type": "markdown",
      "metadata": {
        "id": "view-in-github",
        "colab_type": "text"
      },
      "source": [
        "<a href=\"https://colab.research.google.com/github/cheikhb/ML_Projects/blob/main/Pratical_ML_with_H2O_Week4.ipynb\" target=\"_parent\"><img src=\"https://colab.research.google.com/assets/colab-badge.svg\" alt=\"Open In Colab\"/></a>"
      ]
    },
    {
      "cell_type": "markdown",
      "metadata": {
        "id": "iNQrd9k5fOxh"
      },
      "source": [
        "For this project i am going to use Google Colab \r\n"
      ]
    },
    {
      "cell_type": "code",
      "metadata": {
        "colab": {
          "base_uri": "https://localhost:8080/"
        },
        "id": "LQIg-qiie7gI",
        "outputId": "57da142e-64db-4e17-face-93d9a40aefcf"
      },
      "source": [
        "!pip install h2o"
      ],
      "execution_count": 1,
      "outputs": [
        {
          "output_type": "stream",
          "text": [
            "Collecting h2o\n",
            "\u001b[?25l  Downloading https://files.pythonhosted.org/packages/d4/d4/5c07504a392e94786e7cf33554d961ac4b2863aa22a07b8579940ea1f6b5/h2o-3.32.0.4.tar.gz (164.6MB)\n",
            "\u001b[K     |████████████████████████████████| 164.6MB 55kB/s \n",
            "\u001b[?25hRequirement already satisfied: requests in /usr/local/lib/python3.7/dist-packages (from h2o) (2.23.0)\n",
            "Requirement already satisfied: tabulate in /usr/local/lib/python3.7/dist-packages (from h2o) (0.8.9)\n",
            "Requirement already satisfied: future in /usr/local/lib/python3.7/dist-packages (from h2o) (0.16.0)\n",
            "Collecting colorama>=0.3.8\n",
            "  Downloading https://files.pythonhosted.org/packages/44/98/5b86278fbbf250d239ae0ecb724f8572af1c91f4a11edf4d36a206189440/colorama-0.4.4-py2.py3-none-any.whl\n",
            "Requirement already satisfied: idna<3,>=2.5 in /usr/local/lib/python3.7/dist-packages (from requests->h2o) (2.10)\n",
            "Requirement already satisfied: urllib3!=1.25.0,!=1.25.1,<1.26,>=1.21.1 in /usr/local/lib/python3.7/dist-packages (from requests->h2o) (1.24.3)\n",
            "Requirement already satisfied: chardet<4,>=3.0.2 in /usr/local/lib/python3.7/dist-packages (from requests->h2o) (3.0.4)\n",
            "Requirement already satisfied: certifi>=2017.4.17 in /usr/local/lib/python3.7/dist-packages (from requests->h2o) (2020.12.5)\n",
            "Building wheels for collected packages: h2o\n",
            "  Building wheel for h2o (setup.py) ... \u001b[?25l\u001b[?25hdone\n",
            "  Created wheel for h2o: filename=h2o-3.32.0.4-py2.py3-none-any.whl size=164670979 sha256=3bded496eb989ccf798e38f551cd2a212cdc0c93555735b865d5486ac027f3b3\n",
            "  Stored in directory: /root/.cache/pip/wheels/65/f4/0d/c9bb958d70c2e015c968cb91cbd7f1b486933056d422337d75\n",
            "Successfully built h2o\n",
            "Installing collected packages: colorama, h2o\n",
            "Successfully installed colorama-0.4.4 h2o-3.32.0.4\n"
          ],
          "name": "stdout"
        }
      ]
    },
    {
      "cell_type": "markdown",
      "metadata": {
        "id": "qfHGNJ_jnsUe"
      },
      "source": [
        "Lets import H2O and other libraries i'll use for this assignment"
      ]
    },
    {
      "cell_type": "code",
      "metadata": {
        "id": "EgWNecJ3n_d3"
      },
      "source": [
        "#Import H2O and other libaries that will be used in this assignment\r\n",
        "import h2o\r\n",
        "from h2o.estimators import *\r\n",
        "from h2o.grid import *\r\n",
        "\r\n",
        "import matplotlib.pyplot as plt\r\n",
        "\r\n",
        "\r\n",
        "%matplotlib inline"
      ],
      "execution_count": 5,
      "outputs": []
    },
    {
      "cell_type": "code",
      "metadata": {
        "id": "GX5nP2ktoLN_"
      },
      "source": [
        "import os\r\n",
        "import h2o\r\n",
        "\r\n",
        "startup  = '/home/h2o/bin/aquarium_startup'\r\n",
        "shutdown = '/home/h2o/bin/aquarium_stop'\r\n",
        "\r\n",
        "if os.path.exists(startup):\r\n",
        "    os.system(startup)\r\n",
        "    local_url = 'http://localhost:54321/h2o'\r\n",
        "    aquarium = True\r\n",
        "else:\r\n",
        "    local_url = 'http://localhost:54321'\r\n",
        "    aquarium = False"
      ],
      "execution_count": 6,
      "outputs": []
    },
    {
      "cell_type": "markdown",
      "metadata": {
        "id": "2YGlP2K_oXli"
      },
      "source": [
        "## Step 1: Init H2O and load the data"
      ]
    },
    {
      "cell_type": "code",
      "metadata": {
        "colab": {
          "base_uri": "https://localhost:8080/",
          "height": 562
        },
        "id": "06QqLfLepZHz",
        "outputId": "cb675066-a0d9-489f-f3c3-d91bef8a383f"
      },
      "source": [
        "h2o.init(url=local_url)"
      ],
      "execution_count": 7,
      "outputs": [
        {
          "output_type": "stream",
          "text": [
            "Checking whether there is an H2O instance running at http://localhost:54321 ..... not found.\n",
            "Attempting to start a local H2O server...\n",
            "  Java Version: openjdk version \"11.0.10\" 2021-01-19; OpenJDK Runtime Environment (build 11.0.10+9-Ubuntu-0ubuntu1.18.04); OpenJDK 64-Bit Server VM (build 11.0.10+9-Ubuntu-0ubuntu1.18.04, mixed mode, sharing)\n",
            "  Starting server from /usr/local/lib/python3.7/dist-packages/h2o/backend/bin/h2o.jar\n",
            "  Ice root: /tmp/tmpj9iq49lc\n",
            "  JVM stdout: /tmp/tmpj9iq49lc/h2o_unknownUser_started_from_python.out\n",
            "  JVM stderr: /tmp/tmpj9iq49lc/h2o_unknownUser_started_from_python.err\n",
            "  Server is running at http://127.0.0.1:54321\n",
            "Connecting to H2O server at http://127.0.0.1:54321 ... successful.\n"
          ],
          "name": "stdout"
        },
        {
          "output_type": "display_data",
          "data": {
            "text/html": [
              "<div style=\"overflow:auto\"><table style=\"width:50%\"><tr><td>H2O_cluster_uptime:</td>\n",
              "<td>03 secs</td></tr>\n",
              "<tr><td>H2O_cluster_timezone:</td>\n",
              "<td>Etc/UTC</td></tr>\n",
              "<tr><td>H2O_data_parsing_timezone:</td>\n",
              "<td>UTC</td></tr>\n",
              "<tr><td>H2O_cluster_version:</td>\n",
              "<td>3.32.0.4</td></tr>\n",
              "<tr><td>H2O_cluster_version_age:</td>\n",
              "<td>27 days </td></tr>\n",
              "<tr><td>H2O_cluster_name:</td>\n",
              "<td>H2O_from_python_unknownUser_sm84f2</td></tr>\n",
              "<tr><td>H2O_cluster_total_nodes:</td>\n",
              "<td>1</td></tr>\n",
              "<tr><td>H2O_cluster_free_memory:</td>\n",
              "<td>3.180 Gb</td></tr>\n",
              "<tr><td>H2O_cluster_total_cores:</td>\n",
              "<td>2</td></tr>\n",
              "<tr><td>H2O_cluster_allowed_cores:</td>\n",
              "<td>2</td></tr>\n",
              "<tr><td>H2O_cluster_status:</td>\n",
              "<td>accepting new members, healthy</td></tr>\n",
              "<tr><td>H2O_connection_url:</td>\n",
              "<td>http://127.0.0.1:54321</td></tr>\n",
              "<tr><td>H2O_connection_proxy:</td>\n",
              "<td>{\"http\": null, \"https\": null}</td></tr>\n",
              "<tr><td>H2O_internal_security:</td>\n",
              "<td>False</td></tr>\n",
              "<tr><td>H2O_API_Extensions:</td>\n",
              "<td>Amazon S3, XGBoost, Algos, AutoML, Core V3, TargetEncoder, Core V4</td></tr>\n",
              "<tr><td>Python_version:</td>\n",
              "<td>3.7.10 final</td></tr></table></div>"
            ],
            "text/plain": [
              "--------------------------  ------------------------------------------------------------------\n",
              "H2O_cluster_uptime:         03 secs\n",
              "H2O_cluster_timezone:       Etc/UTC\n",
              "H2O_data_parsing_timezone:  UTC\n",
              "H2O_cluster_version:        3.32.0.4\n",
              "H2O_cluster_version_age:    27 days\n",
              "H2O_cluster_name:           H2O_from_python_unknownUser_sm84f2\n",
              "H2O_cluster_total_nodes:    1\n",
              "H2O_cluster_free_memory:    3.180 Gb\n",
              "H2O_cluster_total_cores:    2\n",
              "H2O_cluster_allowed_cores:  2\n",
              "H2O_cluster_status:         accepting new members, healthy\n",
              "H2O_connection_url:         http://127.0.0.1:54321\n",
              "H2O_connection_proxy:       {\"http\": null, \"https\": null}\n",
              "H2O_internal_security:      False\n",
              "H2O_API_Extensions:         Amazon S3, XGBoost, Algos, AutoML, Core V3, TargetEncoder, Core V4\n",
              "Python_version:             3.7.10 final\n",
              "--------------------------  ------------------------------------------------------------------"
            ]
          },
          "metadata": {
            "tags": []
          }
        }
      ]
    },
    {
      "cell_type": "markdown",
      "metadata": {
        "id": "kEEdawjEpjWy"
      },
      "source": [
        "Lets load the data i am going to use for this assignment"
      ]
    },
    {
      "cell_type": "code",
      "metadata": {
        "colab": {
          "base_uri": "https://localhost:8080/"
        },
        "id": "I_a4Lkm7pqFj",
        "outputId": "8f30a082-5f13-4ac2-b380-e32b2e1df6a7"
      },
      "source": [
        "data = h2o.import_file(\"/content/cacao.882.csv\")"
      ],
      "execution_count": 14,
      "outputs": [
        {
          "output_type": "stream",
          "text": [
            "Parse progress: |█████████████████████████████████████████████████████████| 100%\n"
          ],
          "name": "stdout"
        }
      ]
    },
    {
      "cell_type": "code",
      "metadata": {
        "colab": {
          "base_uri": "https://localhost:8080/",
          "height": 254
        },
        "id": "yuhSEkdCqM3R",
        "outputId": "1a123bc5-3fcf-4d46-95db-a730cf9cb1db"
      },
      "source": [
        "data.head()"
      ],
      "execution_count": 15,
      "outputs": [
        {
          "output_type": "display_data",
          "data": {
            "text/html": [
              "<table>\n",
              "<thead>\n",
              "<tr><th>Maker   </th><th>Origin        </th><th style=\"text-align: right;\">  REF</th><th style=\"text-align: right;\">  Review Date</th><th style=\"text-align: right;\">  Cocoa Percent</th><th>Maker Location  </th><th style=\"text-align: right;\">  Rating</th><th>Bean Type  </th><th>Bean Origin  </th></tr>\n",
              "</thead>\n",
              "<tbody>\n",
              "<tr><td>A. Morin</td><td>Agua Grande   </td><td style=\"text-align: right;\"> 1876</td><td style=\"text-align: right;\">         2016</td><td style=\"text-align: right;\">           0.63</td><td>France          </td><td style=\"text-align: right;\">    3.75</td><td>           </td><td>Sao Tome     </td></tr>\n",
              "<tr><td>A. Morin</td><td>Kpime         </td><td style=\"text-align: right;\"> 1676</td><td style=\"text-align: right;\">         2015</td><td style=\"text-align: right;\">           0.7 </td><td>France          </td><td style=\"text-align: right;\">    2.75</td><td>           </td><td>Togo         </td></tr>\n",
              "<tr><td>A. Morin</td><td>Atsane        </td><td style=\"text-align: right;\"> 1676</td><td style=\"text-align: right;\">         2015</td><td style=\"text-align: right;\">           0.7 </td><td>France          </td><td style=\"text-align: right;\">    3   </td><td>           </td><td>Togo         </td></tr>\n",
              "<tr><td>A. Morin</td><td>Akata         </td><td style=\"text-align: right;\"> 1680</td><td style=\"text-align: right;\">         2015</td><td style=\"text-align: right;\">           0.7 </td><td>France          </td><td style=\"text-align: right;\">    3.5 </td><td>           </td><td>Togo         </td></tr>\n",
              "<tr><td>A. Morin</td><td>Quilla        </td><td style=\"text-align: right;\"> 1704</td><td style=\"text-align: right;\">         2015</td><td style=\"text-align: right;\">           0.7 </td><td>France          </td><td style=\"text-align: right;\">    3.5 </td><td>           </td><td>Peru         </td></tr>\n",
              "<tr><td>A. Morin</td><td>Carenero      </td><td style=\"text-align: right;\"> 1315</td><td style=\"text-align: right;\">         2014</td><td style=\"text-align: right;\">           0.7 </td><td>France          </td><td style=\"text-align: right;\">    2.75</td><td>Criollo    </td><td>Venezuela    </td></tr>\n",
              "<tr><td>A. Morin</td><td>Cuba          </td><td style=\"text-align: right;\"> 1315</td><td style=\"text-align: right;\">         2014</td><td style=\"text-align: right;\">           0.7 </td><td>France          </td><td style=\"text-align: right;\">    3.5 </td><td>           </td><td>Cuba         </td></tr>\n",
              "<tr><td>A. Morin</td><td>Sur del Lago  </td><td style=\"text-align: right;\"> 1315</td><td style=\"text-align: right;\">         2014</td><td style=\"text-align: right;\">           0.7 </td><td>France          </td><td style=\"text-align: right;\">    3.5 </td><td>Criollo    </td><td>Venezuela    </td></tr>\n",
              "<tr><td>A. Morin</td><td>Puerto Cabello</td><td style=\"text-align: right;\"> 1319</td><td style=\"text-align: right;\">         2014</td><td style=\"text-align: right;\">           0.7 </td><td>France          </td><td style=\"text-align: right;\">    3.75</td><td>Criollo    </td><td>Venezuela    </td></tr>\n",
              "<tr><td>A. Morin</td><td>Pablino       </td><td style=\"text-align: right;\"> 1319</td><td style=\"text-align: right;\">         2014</td><td style=\"text-align: right;\">           0.7 </td><td>France          </td><td style=\"text-align: right;\">    4   </td><td>           </td><td>Peru         </td></tr>\n",
              "</tbody>\n",
              "</table>"
            ]
          },
          "metadata": {
            "tags": []
          }
        },
        {
          "output_type": "execute_result",
          "data": {
            "text/plain": [
              ""
            ]
          },
          "metadata": {
            "tags": []
          },
          "execution_count": 15
        }
      ]
    },
    {
      "cell_type": "markdown",
      "metadata": {
        "id": "FRJVg3dLrxe2"
      },
      "source": [
        "Lets split ou data "
      ]
    },
    {
      "cell_type": "code",
      "metadata": {
        "id": "hMyywIi2r0JG"
      },
      "source": [
        "train, valid, test = data.split_frame([0.8, 0.1], seed=69)"
      ],
      "execution_count": 18,
      "outputs": []
    },
    {
      "cell_type": "code",
      "metadata": {
        "colab": {
          "base_uri": "https://localhost:8080/"
        },
        "id": "rS7-WnLTr-vt",
        "outputId": "53ed1681-285c-480c-be77-f89d7b0ed086"
      },
      "source": [
        "print(\"%d/%d/%d\" % (train.nrows, valid.nrows, test.nrows))"
      ],
      "execution_count": 19,
      "outputs": [
        {
          "output_type": "stream",
          "text": [
            "1431/188/176\n"
          ],
          "name": "stdout"
        }
      ]
    },
    {
      "cell_type": "markdown",
      "metadata": {
        "id": "PkRUuZPTtPr0"
      },
      "source": [
        "## Step 2: Set X the list of columns i am going to use to train"
      ]
    },
    {
      "cell_type": "code",
      "metadata": {
        "id": "KdricgCutf9d"
      },
      "source": [
        "y = \"Rating\"\r\n",
        "\r\n",
        "ignore = [\"Rating\", \"REF\", \"Bean Type\"] \r\n",
        "\r\n",
        "x = list(set(train.names) - set(ignore))\r\n"
      ],
      "execution_count": 32,
      "outputs": []
    },
    {
      "cell_type": "code",
      "metadata": {
        "colab": {
          "base_uri": "https://localhost:8080/"
        },
        "id": "Fgcul-hOt_48",
        "outputId": "36a73c5a-ff72-4ff0-d4a6-bfd672c6c946"
      },
      "source": [
        "x"
      ],
      "execution_count": 24,
      "outputs": [
        {
          "output_type": "execute_result",
          "data": {
            "text/plain": [
              "['Cocoa Percent', 'Maker Location', 'Maker', 'Bean Origin', 'Origin']"
            ]
          },
          "metadata": {
            "tags": []
          },
          "execution_count": 24
        }
      ]
    },
    {
      "cell_type": "markdown",
      "metadata": {
        "id": "ZEx-itmTurrI"
      },
      "source": [
        "## Step 3:  Create a baseline deep learning model"
      ]
    },
    {
      "cell_type": "code",
      "metadata": {
        "id": "ASEEoGPq3G9S"
      },
      "source": [
        "from h2o.estimators.deeplearning import H2ODeepLearningEstimator"
      ],
      "execution_count": 25,
      "outputs": []
    },
    {
      "cell_type": "code",
      "metadata": {
        "id": "7N8YTytYG7mq"
      },
      "source": [
        "data[\"Maker Location\"] = data[\"Maker Location\"].asfactor()\r\n",
        "data[\"Maker\"] = data[\"Maker\"].asfactor()\r\n",
        "data[\"Origin\"] = data[\"Origin\"].asfactor()\r\n",
        "data[\"Bean Origin\"] = data[\"Bean Origin\"].asfactor()"
      ],
      "execution_count": 34,
      "outputs": []
    },
    {
      "cell_type": "markdown",
      "metadata": {
        "id": "w0EE-lThZl7s"
      },
      "source": [
        "Before starting the model training lets i need to transform categorical variables as factors"
      ]
    },
    {
      "cell_type": "code",
      "metadata": {
        "colab": {
          "base_uri": "https://localhost:8080/"
        },
        "id": "meuZOrgWuv0z",
        "outputId": "dc9ae191-97ff-4b90-94dc-7543a535f635"
      },
      "source": [
        "DL = H2ODeepLearningEstimator()\r\n",
        "\r\n",
        "%time DL.train(x, y, train, validation_frame = valid)"
      ],
      "execution_count": 35,
      "outputs": [
        {
          "output_type": "stream",
          "text": [
            "deeplearning Model Build progress: |██████████████████████████████████████| 100%\n",
            "CPU times: user 312 ms, sys: 31.7 ms, total: 343 ms\n",
            "Wall time: 17.4 s\n"
          ],
          "name": "stdout"
        }
      ]
    },
    {
      "cell_type": "markdown",
      "metadata": {
        "id": "sOM0zOnOZ_vH"
      },
      "source": [
        "The trainig model takes 17.4 seconds to finish building the model."
      ]
    },
    {
      "cell_type": "code",
      "metadata": {
        "colab": {
          "base_uri": "https://localhost:8080/"
        },
        "id": "GBfAquZF8HqZ",
        "outputId": "32ef7a1b-eda8-4044-c7f5-1d97d9300796"
      },
      "source": [
        "DL.model_performance(test)"
      ],
      "execution_count": 36,
      "outputs": [
        {
          "output_type": "stream",
          "text": [
            "\n",
            "ModelMetricsRegression: deeplearning\n",
            "** Reported on test data. **\n",
            "\n",
            "MSE: 0.19754499822880733\n",
            "RMSE: 0.4444603449452013\n",
            "MAE: 0.36530777964933897\n",
            "RMSLE: 0.11023930573557199\n",
            "Mean Residual Deviance: 0.19754499822880733\n"
          ],
          "name": "stdout"
        },
        {
          "output_type": "execute_result",
          "data": {
            "text/plain": [
              ""
            ]
          },
          "metadata": {
            "tags": []
          },
          "execution_count": 36
        }
      ]
    },
    {
      "cell_type": "code",
      "metadata": {
        "colab": {
          "base_uri": "https://localhost:8080/",
          "height": 1000
        },
        "id": "b2rPDrSS9EHP",
        "outputId": "3114650f-d42b-46fb-97dc-c27fd42aef4d"
      },
      "source": [
        "DL"
      ],
      "execution_count": 37,
      "outputs": [
        {
          "output_type": "stream",
          "text": [
            "Model Details\n",
            "=============\n",
            "H2ODeepLearningEstimator :  Deep Learning\n",
            "Model Key:  DeepLearning_model_python_1614549484690_2\n",
            "\n",
            "\n",
            "Status of Neuron Layers: predicting Rating, regression, gaussian distribution, Quadratic loss, 364,601 weights/biases, 4.2 MB, 15,171 training samples, mini-batch size 1\n"
          ],
          "name": "stdout"
        },
        {
          "output_type": "display_data",
          "data": {
            "text/html": [
              "<div>\n",
              "<style scoped>\n",
              "    .dataframe tbody tr th:only-of-type {\n",
              "        vertical-align: middle;\n",
              "    }\n",
              "\n",
              "    .dataframe tbody tr th {\n",
              "        vertical-align: top;\n",
              "    }\n",
              "\n",
              "    .dataframe thead th {\n",
              "        text-align: right;\n",
              "    }\n",
              "</style>\n",
              "<table border=\"1\" class=\"dataframe\">\n",
              "  <thead>\n",
              "    <tr style=\"text-align: right;\">\n",
              "      <th></th>\n",
              "      <th></th>\n",
              "      <th>layer</th>\n",
              "      <th>units</th>\n",
              "      <th>type</th>\n",
              "      <th>dropout</th>\n",
              "      <th>l1</th>\n",
              "      <th>l2</th>\n",
              "      <th>mean_rate</th>\n",
              "      <th>rate_rms</th>\n",
              "      <th>momentum</th>\n",
              "      <th>mean_weight</th>\n",
              "      <th>weight_rms</th>\n",
              "      <th>mean_bias</th>\n",
              "      <th>bias_rms</th>\n",
              "    </tr>\n",
              "  </thead>\n",
              "  <tbody>\n",
              "    <tr>\n",
              "      <th>0</th>\n",
              "      <td></td>\n",
              "      <td>1</td>\n",
              "      <td>1620</td>\n",
              "      <td>Input</td>\n",
              "      <td>0</td>\n",
              "      <td></td>\n",
              "      <td></td>\n",
              "      <td></td>\n",
              "      <td></td>\n",
              "      <td></td>\n",
              "      <td></td>\n",
              "      <td></td>\n",
              "      <td></td>\n",
              "      <td></td>\n",
              "    </tr>\n",
              "    <tr>\n",
              "      <th>1</th>\n",
              "      <td></td>\n",
              "      <td>2</td>\n",
              "      <td>200</td>\n",
              "      <td>Rectifier</td>\n",
              "      <td>0</td>\n",
              "      <td>0</td>\n",
              "      <td>0</td>\n",
              "      <td>0.237391</td>\n",
              "      <td>0.403364</td>\n",
              "      <td>0</td>\n",
              "      <td>-0.000220085</td>\n",
              "      <td>0.033513</td>\n",
              "      <td>-0.113117</td>\n",
              "      <td>0.160871</td>\n",
              "    </tr>\n",
              "    <tr>\n",
              "      <th>2</th>\n",
              "      <td></td>\n",
              "      <td>3</td>\n",
              "      <td>200</td>\n",
              "      <td>Rectifier</td>\n",
              "      <td>0</td>\n",
              "      <td>0</td>\n",
              "      <td>0</td>\n",
              "      <td>0.163166</td>\n",
              "      <td>0.239382</td>\n",
              "      <td>0</td>\n",
              "      <td>-0.0135154</td>\n",
              "      <td>0.0740018</td>\n",
              "      <td>0.665912</td>\n",
              "      <td>0.249039</td>\n",
              "    </tr>\n",
              "    <tr>\n",
              "      <th>3</th>\n",
              "      <td></td>\n",
              "      <td>4</td>\n",
              "      <td>1</td>\n",
              "      <td>Linear</td>\n",
              "      <td></td>\n",
              "      <td>0</td>\n",
              "      <td>0</td>\n",
              "      <td>0.0012182</td>\n",
              "      <td>0.00140161</td>\n",
              "      <td>0</td>\n",
              "      <td>0.00119616</td>\n",
              "      <td>0.068413</td>\n",
              "      <td>-0.00254692</td>\n",
              "      <td>1.09713e-154</td>\n",
              "    </tr>\n",
              "  </tbody>\n",
              "</table>\n",
              "</div>"
            ],
            "text/plain": [
              "     layer  units       type  ...  mean_weight weight_rms   mean_bias      bias_rms\n",
              "0        1   1620      Input  ...                                                  \n",
              "1        2    200  Rectifier  ... -0.000220085   0.033513   -0.113117      0.160871\n",
              "2        3    200  Rectifier  ...   -0.0135154  0.0740018    0.665912      0.249039\n",
              "3        4      1     Linear  ...   0.00119616   0.068413 -0.00254692  1.09713e-154\n",
              "\n",
              "[4 rows x 14 columns]"
            ]
          },
          "metadata": {
            "tags": []
          }
        },
        {
          "output_type": "stream",
          "text": [
            "\n",
            "\n",
            "ModelMetricsRegression: deeplearning\n",
            "** Reported on train data. **\n",
            "\n",
            "MSE: 0.11740905133613555\n",
            "RMSE: 0.3426500420781173\n",
            "MAE: 0.2649680240789466\n",
            "RMSLE: 0.08834394254393689\n",
            "Mean Residual Deviance: 0.11740905133613555\n",
            "\n",
            "ModelMetricsRegression: deeplearning\n",
            "** Reported on validation data. **\n",
            "\n",
            "MSE: 0.18446874710442349\n",
            "RMSE: 0.42949825040903655\n",
            "MAE: 0.33766671551806615\n",
            "RMSLE: 0.11138909395161004\n",
            "Mean Residual Deviance: 0.18446874710442349\n",
            "\n",
            "Scoring History: \n"
          ],
          "name": "stdout"
        },
        {
          "output_type": "display_data",
          "data": {
            "text/html": [
              "<div>\n",
              "<style scoped>\n",
              "    .dataframe tbody tr th:only-of-type {\n",
              "        vertical-align: middle;\n",
              "    }\n",
              "\n",
              "    .dataframe tbody tr th {\n",
              "        vertical-align: top;\n",
              "    }\n",
              "\n",
              "    .dataframe thead th {\n",
              "        text-align: right;\n",
              "    }\n",
              "</style>\n",
              "<table border=\"1\" class=\"dataframe\">\n",
              "  <thead>\n",
              "    <tr style=\"text-align: right;\">\n",
              "      <th></th>\n",
              "      <th></th>\n",
              "      <th>timestamp</th>\n",
              "      <th>duration</th>\n",
              "      <th>training_speed</th>\n",
              "      <th>epochs</th>\n",
              "      <th>iterations</th>\n",
              "      <th>samples</th>\n",
              "      <th>training_rmse</th>\n",
              "      <th>training_deviance</th>\n",
              "      <th>training_mae</th>\n",
              "      <th>training_r2</th>\n",
              "      <th>validation_rmse</th>\n",
              "      <th>validation_deviance</th>\n",
              "      <th>validation_mae</th>\n",
              "      <th>validation_r2</th>\n",
              "    </tr>\n",
              "  </thead>\n",
              "  <tbody>\n",
              "    <tr>\n",
              "      <th>0</th>\n",
              "      <td></td>\n",
              "      <td>2021-03-01 00:16:37</td>\n",
              "      <td>0.000 sec</td>\n",
              "      <td>None</td>\n",
              "      <td>0.000000</td>\n",
              "      <td>0</td>\n",
              "      <td>0.0</td>\n",
              "      <td>NaN</td>\n",
              "      <td>NaN</td>\n",
              "      <td>NaN</td>\n",
              "      <td>NaN</td>\n",
              "      <td>NaN</td>\n",
              "      <td>NaN</td>\n",
              "      <td>NaN</td>\n",
              "      <td>NaN</td>\n",
              "    </tr>\n",
              "    <tr>\n",
              "      <th>1</th>\n",
              "      <td></td>\n",
              "      <td>2021-03-01 00:16:39</td>\n",
              "      <td>2.807 sec</td>\n",
              "      <td>687 obs/sec</td>\n",
              "      <td>0.881202</td>\n",
              "      <td>1</td>\n",
              "      <td>1261.0</td>\n",
              "      <td>0.459857</td>\n",
              "      <td>0.211468</td>\n",
              "      <td>0.362813</td>\n",
              "      <td>0.089522</td>\n",
              "      <td>0.453120</td>\n",
              "      <td>0.205318</td>\n",
              "      <td>0.357504</td>\n",
              "      <td>0.037526</td>\n",
              "    </tr>\n",
              "    <tr>\n",
              "      <th>2</th>\n",
              "      <td></td>\n",
              "      <td>2021-03-01 00:16:49</td>\n",
              "      <td>12.428 sec</td>\n",
              "      <td>1068 obs/sec</td>\n",
              "      <td>7.951083</td>\n",
              "      <td>9</td>\n",
              "      <td>11378.0</td>\n",
              "      <td>0.342650</td>\n",
              "      <td>0.117409</td>\n",
              "      <td>0.264968</td>\n",
              "      <td>0.494495</td>\n",
              "      <td>0.429498</td>\n",
              "      <td>0.184469</td>\n",
              "      <td>0.337667</td>\n",
              "      <td>0.135261</td>\n",
              "    </tr>\n",
              "    <tr>\n",
              "      <th>3</th>\n",
              "      <td></td>\n",
              "      <td>2021-03-01 00:16:53</td>\n",
              "      <td>16.129 sec</td>\n",
              "      <td>1122 obs/sec</td>\n",
              "      <td>10.601677</td>\n",
              "      <td>12</td>\n",
              "      <td>15171.0</td>\n",
              "      <td>0.324718</td>\n",
              "      <td>0.105442</td>\n",
              "      <td>0.257076</td>\n",
              "      <td>0.546020</td>\n",
              "      <td>0.451223</td>\n",
              "      <td>0.203603</td>\n",
              "      <td>0.353618</td>\n",
              "      <td>0.045567</td>\n",
              "    </tr>\n",
              "    <tr>\n",
              "      <th>4</th>\n",
              "      <td></td>\n",
              "      <td>2021-03-01 00:16:54</td>\n",
              "      <td>17.025 sec</td>\n",
              "      <td>1118 obs/sec</td>\n",
              "      <td>10.601677</td>\n",
              "      <td>12</td>\n",
              "      <td>15171.0</td>\n",
              "      <td>0.342650</td>\n",
              "      <td>0.117409</td>\n",
              "      <td>0.264968</td>\n",
              "      <td>0.494495</td>\n",
              "      <td>0.429498</td>\n",
              "      <td>0.184469</td>\n",
              "      <td>0.337667</td>\n",
              "      <td>0.135261</td>\n",
              "    </tr>\n",
              "  </tbody>\n",
              "</table>\n",
              "</div>"
            ],
            "text/plain": [
              "               timestamp  ... validation_mae validation_r2\n",
              "0    2021-03-01 00:16:37  ...            NaN           NaN\n",
              "1    2021-03-01 00:16:39  ...       0.357504      0.037526\n",
              "2    2021-03-01 00:16:49  ...       0.337667      0.135261\n",
              "3    2021-03-01 00:16:53  ...       0.353618      0.045567\n",
              "4    2021-03-01 00:16:54  ...       0.337667      0.135261\n",
              "\n",
              "[5 rows x 15 columns]"
            ]
          },
          "metadata": {
            "tags": []
          }
        },
        {
          "output_type": "stream",
          "text": [
            "\n",
            "Variable Importances: \n"
          ],
          "name": "stdout"
        },
        {
          "output_type": "display_data",
          "data": {
            "text/html": [
              "<div>\n",
              "<style scoped>\n",
              "    .dataframe tbody tr th:only-of-type {\n",
              "        vertical-align: middle;\n",
              "    }\n",
              "\n",
              "    .dataframe tbody tr th {\n",
              "        vertical-align: top;\n",
              "    }\n",
              "\n",
              "    .dataframe thead th {\n",
              "        text-align: right;\n",
              "    }\n",
              "</style>\n",
              "<table border=\"1\" class=\"dataframe\">\n",
              "  <thead>\n",
              "    <tr style=\"text-align: right;\">\n",
              "      <th></th>\n",
              "      <th>variable</th>\n",
              "      <th>relative_importance</th>\n",
              "      <th>scaled_importance</th>\n",
              "      <th>percentage</th>\n",
              "    </tr>\n",
              "  </thead>\n",
              "  <tbody>\n",
              "    <tr>\n",
              "      <th>0</th>\n",
              "      <td>Maker.Pralus</td>\n",
              "      <td>1.000000</td>\n",
              "      <td>1.000000</td>\n",
              "      <td>0.001091</td>\n",
              "    </tr>\n",
              "    <tr>\n",
              "      <th>1</th>\n",
              "      <td>Maker.Pierre Marcolini</td>\n",
              "      <td>0.991348</td>\n",
              "      <td>0.991348</td>\n",
              "      <td>0.001082</td>\n",
              "    </tr>\n",
              "    <tr>\n",
              "      <th>2</th>\n",
              "      <td>Review Date</td>\n",
              "      <td>0.933907</td>\n",
              "      <td>0.933907</td>\n",
              "      <td>0.001019</td>\n",
              "    </tr>\n",
              "    <tr>\n",
              "      <th>3</th>\n",
              "      <td>Cocoa Percent</td>\n",
              "      <td>0.917962</td>\n",
              "      <td>0.917962</td>\n",
              "      <td>0.001002</td>\n",
              "    </tr>\n",
              "    <tr>\n",
              "      <th>4</th>\n",
              "      <td>Bean Origin.</td>\n",
              "      <td>0.917217</td>\n",
              "      <td>0.917217</td>\n",
              "      <td>0.001001</td>\n",
              "    </tr>\n",
              "    <tr>\n",
              "      <th>5</th>\n",
              "      <td>Maker Location.U.S.A.</td>\n",
              "      <td>0.908778</td>\n",
              "      <td>0.908778</td>\n",
              "      <td>0.000992</td>\n",
              "    </tr>\n",
              "    <tr>\n",
              "      <th>6</th>\n",
              "      <td>Maker.Soma</td>\n",
              "      <td>0.886770</td>\n",
              "      <td>0.886770</td>\n",
              "      <td>0.000968</td>\n",
              "    </tr>\n",
              "    <tr>\n",
              "      <th>7</th>\n",
              "      <td>Maker.Bonnat</td>\n",
              "      <td>0.829604</td>\n",
              "      <td>0.829604</td>\n",
              "      <td>0.000905</td>\n",
              "    </tr>\n",
              "    <tr>\n",
              "      <th>8</th>\n",
              "      <td>Maker Location.Italy</td>\n",
              "      <td>0.814229</td>\n",
              "      <td>0.814229</td>\n",
              "      <td>0.000889</td>\n",
              "    </tr>\n",
              "    <tr>\n",
              "      <th>9</th>\n",
              "      <td>Maker.Arete</td>\n",
              "      <td>0.784639</td>\n",
              "      <td>0.784639</td>\n",
              "      <td>0.000856</td>\n",
              "    </tr>\n",
              "    <tr>\n",
              "      <th>10</th>\n",
              "      <td>Maker Location.Ecuador</td>\n",
              "      <td>0.769566</td>\n",
              "      <td>0.769566</td>\n",
              "      <td>0.000840</td>\n",
              "    </tr>\n",
              "    <tr>\n",
              "      <th>11</th>\n",
              "      <td>Maker.Benoit Nihant</td>\n",
              "      <td>0.764028</td>\n",
              "      <td>0.764028</td>\n",
              "      <td>0.000834</td>\n",
              "    </tr>\n",
              "    <tr>\n",
              "      <th>12</th>\n",
              "      <td>Maker.Alain Ducasse</td>\n",
              "      <td>0.745323</td>\n",
              "      <td>0.745323</td>\n",
              "      <td>0.000813</td>\n",
              "    </tr>\n",
              "    <tr>\n",
              "      <th>13</th>\n",
              "      <td>Maker Location.Brazil</td>\n",
              "      <td>0.742031</td>\n",
              "      <td>0.742031</td>\n",
              "      <td>0.000810</td>\n",
              "    </tr>\n",
              "    <tr>\n",
              "      <th>14</th>\n",
              "      <td>Origin.Ecuador</td>\n",
              "      <td>0.741172</td>\n",
              "      <td>0.741172</td>\n",
              "      <td>0.000809</td>\n",
              "    </tr>\n",
              "    <tr>\n",
              "      <th>15</th>\n",
              "      <td>Maker.Domori</td>\n",
              "      <td>0.734633</td>\n",
              "      <td>0.734633</td>\n",
              "      <td>0.000802</td>\n",
              "    </tr>\n",
              "    <tr>\n",
              "      <th>16</th>\n",
              "      <td>Maker.Duffy's</td>\n",
              "      <td>0.730861</td>\n",
              "      <td>0.730861</td>\n",
              "      <td>0.000798</td>\n",
              "    </tr>\n",
              "    <tr>\n",
              "      <th>17</th>\n",
              "      <td>Bean Origin.Ecuador</td>\n",
              "      <td>0.727799</td>\n",
              "      <td>0.727799</td>\n",
              "      <td>0.000794</td>\n",
              "    </tr>\n",
              "    <tr>\n",
              "      <th>18</th>\n",
              "      <td>Maker.Patric</td>\n",
              "      <td>0.715744</td>\n",
              "      <td>0.715744</td>\n",
              "      <td>0.000781</td>\n",
              "    </tr>\n",
              "    <tr>\n",
              "      <th>19</th>\n",
              "      <td>Maker.Amedei</td>\n",
              "      <td>0.710992</td>\n",
              "      <td>0.710992</td>\n",
              "      <td>0.000776</td>\n",
              "    </tr>\n",
              "  </tbody>\n",
              "</table>\n",
              "</div>"
            ],
            "text/plain": [
              "                  variable  relative_importance  scaled_importance  percentage\n",
              "0             Maker.Pralus             1.000000           1.000000    0.001091\n",
              "1   Maker.Pierre Marcolini             0.991348           0.991348    0.001082\n",
              "2              Review Date             0.933907           0.933907    0.001019\n",
              "3            Cocoa Percent             0.917962           0.917962    0.001002\n",
              "4            Bean Origin.              0.917217           0.917217    0.001001\n",
              "5    Maker Location.U.S.A.             0.908778           0.908778    0.000992\n",
              "6               Maker.Soma             0.886770           0.886770    0.000968\n",
              "7             Maker.Bonnat             0.829604           0.829604    0.000905\n",
              "8     Maker Location.Italy             0.814229           0.814229    0.000889\n",
              "9              Maker.Arete             0.784639           0.784639    0.000856\n",
              "10  Maker Location.Ecuador             0.769566           0.769566    0.000840\n",
              "11     Maker.Benoit Nihant             0.764028           0.764028    0.000834\n",
              "12     Maker.Alain Ducasse             0.745323           0.745323    0.000813\n",
              "13   Maker Location.Brazil             0.742031           0.742031    0.000810\n",
              "14          Origin.Ecuador             0.741172           0.741172    0.000809\n",
              "15            Maker.Domori             0.734633           0.734633    0.000802\n",
              "16           Maker.Duffy's             0.730861           0.730861    0.000798\n",
              "17     Bean Origin.Ecuador             0.727799           0.727799    0.000794\n",
              "18            Maker.Patric             0.715744           0.715744    0.000781\n",
              "19            Maker.Amedei             0.710992           0.710992    0.000776"
            ]
          },
          "metadata": {
            "tags": []
          }
        },
        {
          "output_type": "stream",
          "text": [
            "\n",
            "See the whole table with table.as_data_frame()\n"
          ],
          "name": "stdout"
        },
        {
          "output_type": "execute_result",
          "data": {
            "text/plain": [
              ""
            ]
          },
          "metadata": {
            "tags": []
          },
          "execution_count": 37
        }
      ]
    },
    {
      "cell_type": "code",
      "metadata": {
        "colab": {
          "base_uri": "https://localhost:8080/",
          "height": 295
        },
        "id": "ZMHsfaE5-Msn",
        "outputId": "b5541f96-5c16-4f84-e142-699a29947c2b"
      },
      "source": [
        "DL.plot()"
      ],
      "execution_count": 38,
      "outputs": [
        {
          "output_type": "display_data",
          "data": {
            "image/png": "[encoded data removed]",
            "text/plain": [
              "<Figure size 432x288 with 1 Axes>"
            ]
          },
          "metadata": {
            "tags": [],
            "needs_background": "light"
          }
        }
      ]
    },
    {
      "cell_type": "markdown",
      "metadata": {
        "id": "yXAtWRB49qk6"
      },
      "source": [
        "## Step 4: Produce a tuned model"
      ]
    },
    {
      "cell_type": "code",
      "metadata": {
        "colab": {
          "base_uri": "https://localhost:8080/"
        },
        "id": "EHDLvP6x9_Qf",
        "outputId": "2c27c458-a9a7-4421-f4da-448963416376"
      },
      "source": [
        "DL_200_epocchs = H2ODeepLearningEstimator( variable_importances=True,\r\n",
        "                                          epochs = 200,\r\n",
        "                                          stopping_rounds = 5,\r\n",
        "                                          stopping_tolerance = 0.0,\r\n",
        "                                          stopping_metric = \"deviance\")\r\n",
        "\r\n",
        "%time DL_200_epocchs.train(x, y, train, validation_frame = valid)"
      ],
      "execution_count": 41,
      "outputs": [
        {
          "output_type": "stream",
          "text": [
            "deeplearning Model Build progress: |██████████████████████████████████████| 100%\n",
            "CPU times: user 846 ms, sys: 62.6 ms, total: 909 ms\n",
            "Wall time: 2min 34s\n"
          ],
          "name": "stdout"
        }
      ]
    },
    {
      "cell_type": "code",
      "metadata": {
        "colab": {
          "base_uri": "https://localhost:8080/"
        },
        "id": "PuKGUXqtTK5G",
        "outputId": "11a3fd74-d03a-4d9d-962b-9f810110acee"
      },
      "source": [
        "DL_200_epocchs.model_performance(valid)"
      ],
      "execution_count": 42,
      "outputs": [
        {
          "output_type": "stream",
          "text": [
            "\n",
            "ModelMetricsRegression: deeplearning\n",
            "** Reported on test data. **\n",
            "\n",
            "MSE: 0.21020367870041817\n",
            "RMSE: 0.45847974731760854\n",
            "MAE: 0.34375217048598905\n",
            "RMSLE: 0.1198140900649904\n",
            "Mean Residual Deviance: 0.21020367870041817\n"
          ],
          "name": "stdout"
        },
        {
          "output_type": "execute_result",
          "data": {
            "text/plain": [
              ""
            ]
          },
          "metadata": {
            "tags": []
          },
          "execution_count": 42
        }
      ]
    },
    {
      "cell_type": "code",
      "metadata": {
        "colab": {
          "base_uri": "https://localhost:8080/",
          "height": 1000
        },
        "id": "j95uRBxxT_ah",
        "outputId": "8d0e1fd2-3e33-4667-b384-2a413e4eb6f8"
      },
      "source": [
        "DL_200_epocchs"
      ],
      "execution_count": 44,
      "outputs": [
        {
          "output_type": "stream",
          "text": [
            "Model Details\n",
            "=============\n",
            "H2ODeepLearningEstimator :  Deep Learning\n",
            "Model Key:  DeepLearning_model_python_1614549484690_4\n",
            "\n",
            "\n",
            "Status of Neuron Layers: predicting Rating, regression, gaussian distribution, Quadratic loss, 364,601 weights/biases, 4.2 MB, 230,391 training samples, mini-batch size 1\n"
          ],
          "name": "stdout"
        },
        {
          "output_type": "display_data",
          "data": {
            "text/html": [
              "<div>\n",
              "<style scoped>\n",
              "    .dataframe tbody tr th:only-of-type {\n",
              "        vertical-align: middle;\n",
              "    }\n",
              "\n",
              "    .dataframe tbody tr th {\n",
              "        vertical-align: top;\n",
              "    }\n",
              "\n",
              "    .dataframe thead th {\n",
              "        text-align: right;\n",
              "    }\n",
              "</style>\n",
              "<table border=\"1\" class=\"dataframe\">\n",
              "  <thead>\n",
              "    <tr style=\"text-align: right;\">\n",
              "      <th></th>\n",
              "      <th></th>\n",
              "      <th>layer</th>\n",
              "      <th>units</th>\n",
              "      <th>type</th>\n",
              "      <th>dropout</th>\n",
              "      <th>l1</th>\n",
              "      <th>l2</th>\n",
              "      <th>mean_rate</th>\n",
              "      <th>rate_rms</th>\n",
              "      <th>momentum</th>\n",
              "      <th>mean_weight</th>\n",
              "      <th>weight_rms</th>\n",
              "      <th>mean_bias</th>\n",
              "      <th>bias_rms</th>\n",
              "    </tr>\n",
              "  </thead>\n",
              "  <tbody>\n",
              "    <tr>\n",
              "      <th>0</th>\n",
              "      <td></td>\n",
              "      <td>1</td>\n",
              "      <td>1620</td>\n",
              "      <td>Input</td>\n",
              "      <td>0</td>\n",
              "      <td></td>\n",
              "      <td></td>\n",
              "      <td></td>\n",
              "      <td></td>\n",
              "      <td></td>\n",
              "      <td></td>\n",
              "      <td></td>\n",
              "      <td></td>\n",
              "      <td></td>\n",
              "    </tr>\n",
              "    <tr>\n",
              "      <th>1</th>\n",
              "      <td></td>\n",
              "      <td>2</td>\n",
              "      <td>200</td>\n",
              "      <td>Rectifier</td>\n",
              "      <td>0</td>\n",
              "      <td>0</td>\n",
              "      <td>0</td>\n",
              "      <td>0.228836</td>\n",
              "      <td>0.400084</td>\n",
              "      <td>0</td>\n",
              "      <td>-0.000160144</td>\n",
              "      <td>0.0407486</td>\n",
              "      <td>-0.197297</td>\n",
              "      <td>0.189623</td>\n",
              "    </tr>\n",
              "    <tr>\n",
              "      <th>2</th>\n",
              "      <td></td>\n",
              "      <td>3</td>\n",
              "      <td>200</td>\n",
              "      <td>Rectifier</td>\n",
              "      <td>0</td>\n",
              "      <td>0</td>\n",
              "      <td>0</td>\n",
              "      <td>0.339333</td>\n",
              "      <td>0.259231</td>\n",
              "      <td>0</td>\n",
              "      <td>-0.0157515</td>\n",
              "      <td>0.104731</td>\n",
              "      <td>0.126236</td>\n",
              "      <td>0.210265</td>\n",
              "    </tr>\n",
              "    <tr>\n",
              "      <th>3</th>\n",
              "      <td></td>\n",
              "      <td>4</td>\n",
              "      <td>1</td>\n",
              "      <td>Linear</td>\n",
              "      <td></td>\n",
              "      <td>0</td>\n",
              "      <td>0</td>\n",
              "      <td>0.0133683</td>\n",
              "      <td>0.0170733</td>\n",
              "      <td>0</td>\n",
              "      <td>-0.00581644</td>\n",
              "      <td>0.0710616</td>\n",
              "      <td>-0.00896405</td>\n",
              "      <td>1.09713e-154</td>\n",
              "    </tr>\n",
              "  </tbody>\n",
              "</table>\n",
              "</div>"
            ],
            "text/plain": [
              "     layer  units       type  ...  mean_weight weight_rms   mean_bias      bias_rms\n",
              "0        1   1620      Input  ...                                                  \n",
              "1        2    200  Rectifier  ... -0.000160144  0.0407486   -0.197297      0.189623\n",
              "2        3    200  Rectifier  ...   -0.0157515   0.104731    0.126236      0.210265\n",
              "3        4      1     Linear  ...  -0.00581644  0.0710616 -0.00896405  1.09713e-154\n",
              "\n",
              "[4 rows x 14 columns]"
            ]
          },
          "metadata": {
            "tags": []
          }
        },
        {
          "output_type": "stream",
          "text": [
            "\n",
            "\n",
            "ModelMetricsRegression: deeplearning\n",
            "** Reported on train data. **\n",
            "\n",
            "MSE: 0.0014449914552137051\n",
            "RMSE: 0.03801304322484198\n",
            "MAE: 0.0246724091048959\n",
            "RMSLE: 0.009500995597048324\n",
            "Mean Residual Deviance: 0.0014449914552137051\n",
            "\n",
            "ModelMetricsRegression: deeplearning\n",
            "** Reported on validation data. **\n",
            "\n",
            "MSE: 0.21020367870041817\n",
            "RMSE: 0.45847974731760854\n",
            "MAE: 0.34375217048598905\n",
            "RMSLE: 0.1198140900649904\n",
            "Mean Residual Deviance: 0.21020367870041817\n",
            "\n",
            "Scoring History: \n"
          ],
          "name": "stdout"
        },
        {
          "output_type": "display_data",
          "data": {
            "text/html": [
              "<div>\n",
              "<style scoped>\n",
              "    .dataframe tbody tr th:only-of-type {\n",
              "        vertical-align: middle;\n",
              "    }\n",
              "\n",
              "    .dataframe tbody tr th {\n",
              "        vertical-align: top;\n",
              "    }\n",
              "\n",
              "    .dataframe thead th {\n",
              "        text-align: right;\n",
              "    }\n",
              "</style>\n",
              "<table border=\"1\" class=\"dataframe\">\n",
              "  <thead>\n",
              "    <tr style=\"text-align: right;\">\n",
              "      <th></th>\n",
              "      <th></th>\n",
              "      <th>timestamp</th>\n",
              "      <th>duration</th>\n",
              "      <th>training_speed</th>\n",
              "      <th>epochs</th>\n",
              "      <th>iterations</th>\n",
              "      <th>samples</th>\n",
              "      <th>training_rmse</th>\n",
              "      <th>training_deviance</th>\n",
              "      <th>training_mae</th>\n",
              "      <th>training_r2</th>\n",
              "      <th>validation_rmse</th>\n",
              "      <th>validation_deviance</th>\n",
              "      <th>validation_mae</th>\n",
              "      <th>validation_r2</th>\n",
              "    </tr>\n",
              "  </thead>\n",
              "  <tbody>\n",
              "    <tr>\n",
              "      <th>0</th>\n",
              "      <td></td>\n",
              "      <td>2021-03-01 00:48:58</td>\n",
              "      <td>0.000 sec</td>\n",
              "      <td>None</td>\n",
              "      <td>0.0</td>\n",
              "      <td>0</td>\n",
              "      <td>0.0</td>\n",
              "      <td>NaN</td>\n",
              "      <td>NaN</td>\n",
              "      <td>NaN</td>\n",
              "      <td>NaN</td>\n",
              "      <td>NaN</td>\n",
              "      <td>NaN</td>\n",
              "      <td>NaN</td>\n",
              "      <td>NaN</td>\n",
              "    </tr>\n",
              "    <tr>\n",
              "      <th>1</th>\n",
              "      <td></td>\n",
              "      <td>2021-03-01 00:49:01</td>\n",
              "      <td>4.203 sec</td>\n",
              "      <td>498 obs/sec</td>\n",
              "      <td>1.0</td>\n",
              "      <td>1</td>\n",
              "      <td>1431.0</td>\n",
              "      <td>0.506675</td>\n",
              "      <td>0.256720</td>\n",
              "      <td>0.393801</td>\n",
              "      <td>-0.105306</td>\n",
              "      <td>0.489947</td>\n",
              "      <td>0.240048</td>\n",
              "      <td>0.380847</td>\n",
              "      <td>-0.125279</td>\n",
              "    </tr>\n",
              "    <tr>\n",
              "      <th>2</th>\n",
              "      <td></td>\n",
              "      <td>2021-03-01 00:49:14</td>\n",
              "      <td>16.948 sec</td>\n",
              "      <td>993 obs/sec</td>\n",
              "      <td>10.0</td>\n",
              "      <td>10</td>\n",
              "      <td>14310.0</td>\n",
              "      <td>0.584638</td>\n",
              "      <td>0.341801</td>\n",
              "      <td>0.500006</td>\n",
              "      <td>-0.471626</td>\n",
              "      <td>0.629071</td>\n",
              "      <td>0.395730</td>\n",
              "      <td>0.511939</td>\n",
              "      <td>-0.855075</td>\n",
              "    </tr>\n",
              "    <tr>\n",
              "      <th>3</th>\n",
              "      <td></td>\n",
              "      <td>2021-03-01 00:49:26</td>\n",
              "      <td>28.875 sec</td>\n",
              "      <td>1120 obs/sec</td>\n",
              "      <td>20.0</td>\n",
              "      <td>20</td>\n",
              "      <td>28620.0</td>\n",
              "      <td>0.422275</td>\n",
              "      <td>0.178316</td>\n",
              "      <td>0.359100</td>\n",
              "      <td>0.232261</td>\n",
              "      <td>0.554573</td>\n",
              "      <td>0.307551</td>\n",
              "      <td>0.436221</td>\n",
              "      <td>-0.441716</td>\n",
              "    </tr>\n",
              "    <tr>\n",
              "      <th>4</th>\n",
              "      <td></td>\n",
              "      <td>2021-03-01 00:49:34</td>\n",
              "      <td>36.975 sec</td>\n",
              "      <td>1220 obs/sec</td>\n",
              "      <td>28.0</td>\n",
              "      <td>28</td>\n",
              "      <td>40068.0</td>\n",
              "      <td>0.208444</td>\n",
              "      <td>0.043449</td>\n",
              "      <td>0.160315</td>\n",
              "      <td>0.812930</td>\n",
              "      <td>0.485395</td>\n",
              "      <td>0.235609</td>\n",
              "      <td>0.369122</td>\n",
              "      <td>-0.104469</td>\n",
              "    </tr>\n",
              "    <tr>\n",
              "      <th>5</th>\n",
              "      <td></td>\n",
              "      <td>2021-03-01 00:49:43</td>\n",
              "      <td>45.794 sec</td>\n",
              "      <td>1295 obs/sec</td>\n",
              "      <td>37.0</td>\n",
              "      <td>37</td>\n",
              "      <td>52947.0</td>\n",
              "      <td>0.151427</td>\n",
              "      <td>0.022930</td>\n",
              "      <td>0.116664</td>\n",
              "      <td>0.901275</td>\n",
              "      <td>0.479768</td>\n",
              "      <td>0.230178</td>\n",
              "      <td>0.362640</td>\n",
              "      <td>-0.079010</td>\n",
              "    </tr>\n",
              "    <tr>\n",
              "      <th>6</th>\n",
              "      <td></td>\n",
              "      <td>2021-03-01 00:49:52</td>\n",
              "      <td>54.220 sec</td>\n",
              "      <td>1356 obs/sec</td>\n",
              "      <td>46.0</td>\n",
              "      <td>46</td>\n",
              "      <td>65826.0</td>\n",
              "      <td>0.122669</td>\n",
              "      <td>0.015048</td>\n",
              "      <td>0.093779</td>\n",
              "      <td>0.935212</td>\n",
              "      <td>0.470639</td>\n",
              "      <td>0.221501</td>\n",
              "      <td>0.350050</td>\n",
              "      <td>-0.038335</td>\n",
              "    </tr>\n",
              "    <tr>\n",
              "      <th>7</th>\n",
              "      <td></td>\n",
              "      <td>2021-03-01 00:50:00</td>\n",
              "      <td>1 min  2.583 sec</td>\n",
              "      <td>1403 obs/sec</td>\n",
              "      <td>55.0</td>\n",
              "      <td>55</td>\n",
              "      <td>78705.0</td>\n",
              "      <td>0.136701</td>\n",
              "      <td>0.018687</td>\n",
              "      <td>0.116440</td>\n",
              "      <td>0.919542</td>\n",
              "      <td>0.461999</td>\n",
              "      <td>0.213443</td>\n",
              "      <td>0.351249</td>\n",
              "      <td>-0.000563</td>\n",
              "    </tr>\n",
              "    <tr>\n",
              "      <th>8</th>\n",
              "      <td></td>\n",
              "      <td>2021-03-01 00:50:08</td>\n",
              "      <td>1 min 10.690 sec</td>\n",
              "      <td>1444 obs/sec</td>\n",
              "      <td>64.0</td>\n",
              "      <td>64</td>\n",
              "      <td>91584.0</td>\n",
              "      <td>0.071749</td>\n",
              "      <td>0.005148</td>\n",
              "      <td>0.050971</td>\n",
              "      <td>0.977836</td>\n",
              "      <td>0.466272</td>\n",
              "      <td>0.217410</td>\n",
              "      <td>0.349639</td>\n",
              "      <td>-0.019158</td>\n",
              "    </tr>\n",
              "    <tr>\n",
              "      <th>9</th>\n",
              "      <td></td>\n",
              "      <td>2021-03-01 00:50:16</td>\n",
              "      <td>1 min 18.696 sec</td>\n",
              "      <td>1479 obs/sec</td>\n",
              "      <td>73.0</td>\n",
              "      <td>73</td>\n",
              "      <td>104463.0</td>\n",
              "      <td>0.065648</td>\n",
              "      <td>0.004310</td>\n",
              "      <td>0.046426</td>\n",
              "      <td>0.981445</td>\n",
              "      <td>0.461229</td>\n",
              "      <td>0.212732</td>\n",
              "      <td>0.343544</td>\n",
              "      <td>0.002769</td>\n",
              "    </tr>\n",
              "    <tr>\n",
              "      <th>10</th>\n",
              "      <td></td>\n",
              "      <td>2021-03-01 00:50:24</td>\n",
              "      <td>1 min 27.015 sec</td>\n",
              "      <td>1521 obs/sec</td>\n",
              "      <td>83.0</td>\n",
              "      <td>83</td>\n",
              "      <td>118773.0</td>\n",
              "      <td>0.057907</td>\n",
              "      <td>0.003353</td>\n",
              "      <td>0.041838</td>\n",
              "      <td>0.985563</td>\n",
              "      <td>0.466974</td>\n",
              "      <td>0.218065</td>\n",
              "      <td>0.348051</td>\n",
              "      <td>-0.022227</td>\n",
              "    </tr>\n",
              "    <tr>\n",
              "      <th>11</th>\n",
              "      <td></td>\n",
              "      <td>2021-03-01 00:50:33</td>\n",
              "      <td>1 min 35.815 sec</td>\n",
              "      <td>1561 obs/sec</td>\n",
              "      <td>94.0</td>\n",
              "      <td>94</td>\n",
              "      <td>134514.0</td>\n",
              "      <td>0.055634</td>\n",
              "      <td>0.003095</td>\n",
              "      <td>0.037914</td>\n",
              "      <td>0.986674</td>\n",
              "      <td>0.469957</td>\n",
              "      <td>0.220860</td>\n",
              "      <td>0.349663</td>\n",
              "      <td>-0.035329</td>\n",
              "    </tr>\n",
              "    <tr>\n",
              "      <th>12</th>\n",
              "      <td></td>\n",
              "      <td>2021-03-01 00:50:41</td>\n",
              "      <td>1 min 43.844 sec</td>\n",
              "      <td>1581 obs/sec</td>\n",
              "      <td>103.0</td>\n",
              "      <td>103</td>\n",
              "      <td>147393.0</td>\n",
              "      <td>0.052822</td>\n",
              "      <td>0.002790</td>\n",
              "      <td>0.038027</td>\n",
              "      <td>0.987987</td>\n",
              "      <td>0.464792</td>\n",
              "      <td>0.216032</td>\n",
              "      <td>0.348906</td>\n",
              "      <td>-0.012697</td>\n",
              "    </tr>\n",
              "    <tr>\n",
              "      <th>13</th>\n",
              "      <td></td>\n",
              "      <td>2021-03-01 00:50:51</td>\n",
              "      <td>1 min 53.270 sec</td>\n",
              "      <td>1601 obs/sec</td>\n",
              "      <td>114.0</td>\n",
              "      <td>114</td>\n",
              "      <td>163134.0</td>\n",
              "      <td>0.042805</td>\n",
              "      <td>0.001832</td>\n",
              "      <td>0.027053</td>\n",
              "      <td>0.992111</td>\n",
              "      <td>0.460585</td>\n",
              "      <td>0.212139</td>\n",
              "      <td>0.343476</td>\n",
              "      <td>0.005551</td>\n",
              "    </tr>\n",
              "    <tr>\n",
              "      <th>14</th>\n",
              "      <td></td>\n",
              "      <td>2021-03-01 00:50:59</td>\n",
              "      <td>2 min  1.091 sec</td>\n",
              "      <td>1628 obs/sec</td>\n",
              "      <td>124.0</td>\n",
              "      <td>124</td>\n",
              "      <td>177444.0</td>\n",
              "      <td>0.045796</td>\n",
              "      <td>0.002097</td>\n",
              "      <td>0.030231</td>\n",
              "      <td>0.990970</td>\n",
              "      <td>0.468158</td>\n",
              "      <td>0.219172</td>\n",
              "      <td>0.350092</td>\n",
              "      <td>-0.027419</td>\n",
              "    </tr>\n",
              "    <tr>\n",
              "      <th>15</th>\n",
              "      <td></td>\n",
              "      <td>2021-03-01 00:51:06</td>\n",
              "      <td>2 min  8.803 sec</td>\n",
              "      <td>1642 obs/sec</td>\n",
              "      <td>133.0</td>\n",
              "      <td>133</td>\n",
              "      <td>190323.0</td>\n",
              "      <td>0.043886</td>\n",
              "      <td>0.001926</td>\n",
              "      <td>0.029368</td>\n",
              "      <td>0.991708</td>\n",
              "      <td>0.463731</td>\n",
              "      <td>0.215047</td>\n",
              "      <td>0.347778</td>\n",
              "      <td>-0.008080</td>\n",
              "    </tr>\n",
              "    <tr>\n",
              "      <th>16</th>\n",
              "      <td></td>\n",
              "      <td>2021-03-01 00:51:15</td>\n",
              "      <td>2 min 17.221 sec</td>\n",
              "      <td>1656 obs/sec</td>\n",
              "      <td>143.0</td>\n",
              "      <td>143</td>\n",
              "      <td>204633.0</td>\n",
              "      <td>0.047335</td>\n",
              "      <td>0.002241</td>\n",
              "      <td>0.033080</td>\n",
              "      <td>0.990353</td>\n",
              "      <td>0.468685</td>\n",
              "      <td>0.219666</td>\n",
              "      <td>0.348779</td>\n",
              "      <td>-0.029732</td>\n",
              "    </tr>\n",
              "    <tr>\n",
              "      <th>17</th>\n",
              "      <td></td>\n",
              "      <td>2021-03-01 00:51:23</td>\n",
              "      <td>2 min 25.780 sec</td>\n",
              "      <td>1656 obs/sec</td>\n",
              "      <td>152.0</td>\n",
              "      <td>152</td>\n",
              "      <td>217512.0</td>\n",
              "      <td>0.044888</td>\n",
              "      <td>0.002015</td>\n",
              "      <td>0.029984</td>\n",
              "      <td>0.991325</td>\n",
              "      <td>0.466387</td>\n",
              "      <td>0.217517</td>\n",
              "      <td>0.349571</td>\n",
              "      <td>-0.019658</td>\n",
              "    </tr>\n",
              "    <tr>\n",
              "      <th>18</th>\n",
              "      <td></td>\n",
              "      <td>2021-03-01 00:51:31</td>\n",
              "      <td>2 min 33.682 sec</td>\n",
              "      <td>1664 obs/sec</td>\n",
              "      <td>161.0</td>\n",
              "      <td>161</td>\n",
              "      <td>230391.0</td>\n",
              "      <td>0.038013</td>\n",
              "      <td>0.001445</td>\n",
              "      <td>0.024672</td>\n",
              "      <td>0.993779</td>\n",
              "      <td>0.458480</td>\n",
              "      <td>0.210204</td>\n",
              "      <td>0.343752</td>\n",
              "      <td>0.014622</td>\n",
              "    </tr>\n",
              "  </tbody>\n",
              "</table>\n",
              "</div>"
            ],
            "text/plain": [
              "                timestamp  ... validation_mae validation_r2\n",
              "0     2021-03-01 00:48:58  ...            NaN           NaN\n",
              "1     2021-03-01 00:49:01  ...       0.380847     -0.125279\n",
              "2     2021-03-01 00:49:14  ...       0.511939     -0.855075\n",
              "3     2021-03-01 00:49:26  ...       0.436221     -0.441716\n",
              "4     2021-03-01 00:49:34  ...       0.369122     -0.104469\n",
              "5     2021-03-01 00:49:43  ...       0.362640     -0.079010\n",
              "6     2021-03-01 00:49:52  ...       0.350050     -0.038335\n",
              "7     2021-03-01 00:50:00  ...       0.351249     -0.000563\n",
              "8     2021-03-01 00:50:08  ...       0.349639     -0.019158\n",
              "9     2021-03-01 00:50:16  ...       0.343544      0.002769\n",
              "10    2021-03-01 00:50:24  ...       0.348051     -0.022227\n",
              "11    2021-03-01 00:50:33  ...       0.349663     -0.035329\n",
              "12    2021-03-01 00:50:41  ...       0.348906     -0.012697\n",
              "13    2021-03-01 00:50:51  ...       0.343476      0.005551\n",
              "14    2021-03-01 00:50:59  ...       0.350092     -0.027419\n",
              "15    2021-03-01 00:51:06  ...       0.347778     -0.008080\n",
              "16    2021-03-01 00:51:15  ...       0.348779     -0.029732\n",
              "17    2021-03-01 00:51:23  ...       0.349571     -0.019658\n",
              "18    2021-03-01 00:51:31  ...       0.343752      0.014622\n",
              "\n",
              "[19 rows x 15 columns]"
            ]
          },
          "metadata": {
            "tags": []
          }
        },
        {
          "output_type": "stream",
          "text": [
            "\n",
            "Variable Importances: \n"
          ],
          "name": "stdout"
        },
        {
          "output_type": "display_data",
          "data": {
            "text/html": [
              "<div>\n",
              "<style scoped>\n",
              "    .dataframe tbody tr th:only-of-type {\n",
              "        vertical-align: middle;\n",
              "    }\n",
              "\n",
              "    .dataframe tbody tr th {\n",
              "        vertical-align: top;\n",
              "    }\n",
              "\n",
              "    .dataframe thead th {\n",
              "        text-align: right;\n",
              "    }\n",
              "</style>\n",
              "<table border=\"1\" class=\"dataframe\">\n",
              "  <thead>\n",
              "    <tr style=\"text-align: right;\">\n",
              "      <th></th>\n",
              "      <th>variable</th>\n",
              "      <th>relative_importance</th>\n",
              "      <th>scaled_importance</th>\n",
              "      <th>percentage</th>\n",
              "    </tr>\n",
              "  </thead>\n",
              "  <tbody>\n",
              "    <tr>\n",
              "      <th>0</th>\n",
              "      <td>Maker.Soma</td>\n",
              "      <td>1.000000</td>\n",
              "      <td>1.000000</td>\n",
              "      <td>0.001979</td>\n",
              "    </tr>\n",
              "    <tr>\n",
              "      <th>1</th>\n",
              "      <td>Cocoa Percent</td>\n",
              "      <td>0.922984</td>\n",
              "      <td>0.922984</td>\n",
              "      <td>0.001827</td>\n",
              "    </tr>\n",
              "    <tr>\n",
              "      <th>2</th>\n",
              "      <td>Maker Location.U.S.A.</td>\n",
              "      <td>0.861639</td>\n",
              "      <td>0.861639</td>\n",
              "      <td>0.001705</td>\n",
              "    </tr>\n",
              "    <tr>\n",
              "      <th>3</th>\n",
              "      <td>Bean Origin.Ecuador</td>\n",
              "      <td>0.835520</td>\n",
              "      <td>0.835520</td>\n",
              "      <td>0.001654</td>\n",
              "    </tr>\n",
              "    <tr>\n",
              "      <th>4</th>\n",
              "      <td>Review Date</td>\n",
              "      <td>0.791879</td>\n",
              "      <td>0.791879</td>\n",
              "      <td>0.001567</td>\n",
              "    </tr>\n",
              "    <tr>\n",
              "      <th>5</th>\n",
              "      <td>Bean Origin.</td>\n",
              "      <td>0.733091</td>\n",
              "      <td>0.733091</td>\n",
              "      <td>0.001451</td>\n",
              "    </tr>\n",
              "    <tr>\n",
              "      <th>6</th>\n",
              "      <td>Bean Origin.Dominican Republic</td>\n",
              "      <td>0.693160</td>\n",
              "      <td>0.693160</td>\n",
              "      <td>0.001372</td>\n",
              "    </tr>\n",
              "    <tr>\n",
              "      <th>7</th>\n",
              "      <td>Bean Origin.Venezuela</td>\n",
              "      <td>0.664534</td>\n",
              "      <td>0.664534</td>\n",
              "      <td>0.001315</td>\n",
              "    </tr>\n",
              "    <tr>\n",
              "      <th>8</th>\n",
              "      <td>Origin.Chuao</td>\n",
              "      <td>0.630328</td>\n",
              "      <td>0.630328</td>\n",
              "      <td>0.001248</td>\n",
              "    </tr>\n",
              "    <tr>\n",
              "      <th>9</th>\n",
              "      <td>Bean Origin.Madagascar</td>\n",
              "      <td>0.623329</td>\n",
              "      <td>0.623329</td>\n",
              "      <td>0.001234</td>\n",
              "    </tr>\n",
              "    <tr>\n",
              "      <th>10</th>\n",
              "      <td>Origin.Madagascar</td>\n",
              "      <td>0.622494</td>\n",
              "      <td>0.622494</td>\n",
              "      <td>0.001232</td>\n",
              "    </tr>\n",
              "    <tr>\n",
              "      <th>11</th>\n",
              "      <td>Maker Location.Italy</td>\n",
              "      <td>0.618752</td>\n",
              "      <td>0.618752</td>\n",
              "      <td>0.001225</td>\n",
              "    </tr>\n",
              "    <tr>\n",
              "      <th>12</th>\n",
              "      <td>Origin.Porcelana</td>\n",
              "      <td>0.617137</td>\n",
              "      <td>0.617137</td>\n",
              "      <td>0.001222</td>\n",
              "    </tr>\n",
              "    <tr>\n",
              "      <th>13</th>\n",
              "      <td>Maker.Middlebury</td>\n",
              "      <td>0.610661</td>\n",
              "      <td>0.610661</td>\n",
              "      <td>0.001209</td>\n",
              "    </tr>\n",
              "    <tr>\n",
              "      <th>14</th>\n",
              "      <td>Maker.Pralus</td>\n",
              "      <td>0.607890</td>\n",
              "      <td>0.607890</td>\n",
              "      <td>0.001203</td>\n",
              "    </tr>\n",
              "    <tr>\n",
              "      <th>15</th>\n",
              "      <td>Maker Location.U.K.</td>\n",
              "      <td>0.590702</td>\n",
              "      <td>0.590702</td>\n",
              "      <td>0.001169</td>\n",
              "    </tr>\n",
              "    <tr>\n",
              "      <th>16</th>\n",
              "      <td>Maker.Pierre Marcolini</td>\n",
              "      <td>0.589245</td>\n",
              "      <td>0.589245</td>\n",
              "      <td>0.001166</td>\n",
              "    </tr>\n",
              "    <tr>\n",
              "      <th>17</th>\n",
              "      <td>Maker Location.Spain</td>\n",
              "      <td>0.588341</td>\n",
              "      <td>0.588341</td>\n",
              "      <td>0.001165</td>\n",
              "    </tr>\n",
              "    <tr>\n",
              "      <th>18</th>\n",
              "      <td>Maker.Domori</td>\n",
              "      <td>0.581925</td>\n",
              "      <td>0.581925</td>\n",
              "      <td>0.001152</td>\n",
              "    </tr>\n",
              "    <tr>\n",
              "      <th>19</th>\n",
              "      <td>Maker.A. Morin</td>\n",
              "      <td>0.573606</td>\n",
              "      <td>0.573606</td>\n",
              "      <td>0.001135</td>\n",
              "    </tr>\n",
              "  </tbody>\n",
              "</table>\n",
              "</div>"
            ],
            "text/plain": [
              "                          variable  ...  percentage\n",
              "0                       Maker.Soma  ...    0.001979\n",
              "1                    Cocoa Percent  ...    0.001827\n",
              "2            Maker Location.U.S.A.  ...    0.001705\n",
              "3              Bean Origin.Ecuador  ...    0.001654\n",
              "4                      Review Date  ...    0.001567\n",
              "5                    Bean Origin.   ...    0.001451\n",
              "6   Bean Origin.Dominican Republic  ...    0.001372\n",
              "7            Bean Origin.Venezuela  ...    0.001315\n",
              "8                     Origin.Chuao  ...    0.001248\n",
              "9           Bean Origin.Madagascar  ...    0.001234\n",
              "10               Origin.Madagascar  ...    0.001232\n",
              "11            Maker Location.Italy  ...    0.001225\n",
              "12                Origin.Porcelana  ...    0.001222\n",
              "13                Maker.Middlebury  ...    0.001209\n",
              "14                    Maker.Pralus  ...    0.001203\n",
              "15             Maker Location.U.K.  ...    0.001169\n",
              "16          Maker.Pierre Marcolini  ...    0.001166\n",
              "17            Maker Location.Spain  ...    0.001165\n",
              "18                    Maker.Domori  ...    0.001152\n",
              "19                  Maker.A. Morin  ...    0.001135\n",
              "\n",
              "[20 rows x 4 columns]"
            ]
          },
          "metadata": {
            "tags": []
          }
        },
        {
          "output_type": "stream",
          "text": [
            "\n",
            "See the whole table with table.as_data_frame()\n"
          ],
          "name": "stdout"
        },
        {
          "output_type": "execute_result",
          "data": {
            "text/plain": [
              ""
            ]
          },
          "metadata": {
            "tags": []
          },
          "execution_count": 44
        }
      ]
    },
    {
      "cell_type": "code",
      "metadata": {
        "colab": {
          "base_uri": "https://localhost:8080/",
          "height": 295
        },
        "id": "-RFeaelKTbd8",
        "outputId": "08594e08-7f57-431b-a3cf-257c64b26d75"
      },
      "source": [
        "DL_200_epocchs.plot()"
      ],
      "execution_count": 43,
      "outputs": [
        {
          "output_type": "display_data",
          "data": {
            "image/png": "[encoded data removed]",
            "text/plain": [
              "<Figure size 432x288 with 1 Axes>"
            ]
          },
          "metadata": {
            "tags": [],
            "needs_background": "light"
          }
        }
      ]
    },
    {
      "cell_type": "code",
      "metadata": {
        "colab": {
          "base_uri": "https://localhost:8080/",
          "height": 612
        },
        "id": "OADO5ys1VHmm",
        "outputId": "f0243e29-f392-46f0-a53c-d49e2e5a4b65"
      },
      "source": [
        "DL_200_epocchs.varimp_plot()\r\n"
      ],
      "execution_count": 47,
      "outputs": [
        {
          "output_type": "display_data",
          "data": {
            "image/png": "[encoded data removed]",
            "text/plain": [
              "<Figure size 1008x720 with 1 Axes>"
            ]
          },
          "metadata": {
            "tags": [],
            "needs_background": "light"
          }
        }
      ]
    },
    {
      "cell_type": "markdown",
      "metadata": {
        "id": "9emB4A-zWT-6"
      },
      "source": [
        "## Step 5: Saving the model and scripts"
      ]
    },
    {
      "cell_type": "code",
      "metadata": {
        "id": "qduB4AtjWavr"
      },
      "source": [
        "DL_path = h2o.save_model(model=DL_200_epocchs, path=\"/content/DL_model\", force=True)\r\n"
      ],
      "execution_count": 50,
      "outputs": []
    },
    {
      "cell_type": "code",
      "metadata": {
        "colab": {
          "base_uri": "https://localhost:8080/",
          "height": 134
        },
        "id": "hprwxyx6bEYh",
        "outputId": "b0604f53-9e0b-434d-bfe3-89a5a016c272"
      },
      "source": [
        "DL_path = h2o.save_model(model=DL_200_epocchs, path=\"C:\\Users\\Admin\\OneDrive\\Bureau\\h2o_deeplearning\", force=True)\r\n"
      ],
      "execution_count": 49,
      "outputs": [
        {
          "output_type": "error",
          "ename": "SyntaxError",
          "evalue": "ignored",
          "traceback": [
            "\u001b[0;36m  File \u001b[0;32m\"<ipython-input-49-c0c0523fa182>\"\u001b[0;36m, line \u001b[0;32m1\u001b[0m\n\u001b[0;31m    DL_path = h2o.save_model(model=DL_200_epocchs, path=\"C:\\Users\\Admin\\OneDrive\\Bureau\\h2o_deeplearning\", force=True)\u001b[0m\n\u001b[0m                                                       ^\u001b[0m\n\u001b[0;31mSyntaxError\u001b[0m\u001b[0;31m:\u001b[0m (unicode error) 'unicodeescape' codec can't decode bytes in position 2-3: truncated \\UXXXXXXXX escape\n"
          ]
        }
      ]
    }
  ]
}