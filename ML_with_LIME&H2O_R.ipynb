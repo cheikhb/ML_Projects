{
  "nbformat": 4,
  "nbformat_minor": 0,
  "metadata": {
    "colab": {
      "name": "ML_with_LIME&H2O_R.ipynb",
      "provenance": [],
      "authorship_tag": "ABX9TyOoM059PTdhu3oeWy2hHfUb",
      "include_colab_link": true
    },
    "kernelspec": {
      "name": "ir",
      "display_name": "R"
    }
  },
  "cells": [
    {
      "cell_type": "markdown",
      "metadata": {
        "id": "view-in-github",
        "colab_type": "text"
      },
      "source": [
        "<a href=\"https://colab.research.google.com/github/cheikhb/ML_Projects/blob/main/ML_with_LIME%26H2O_R.ipynb\" target=\"_parent\"><img src=\"https://colab.research.google.com/assets/colab-badge.svg\" alt=\"Open In Colab\"/></a>"
      ]
    },
    {
      "cell_type": "markdown",
      "metadata": {
        "id": "3-hpUHJEakBB"
      },
      "source": [
        "**In this project we are going do explainable machine learning with LIME and H2O in R**"
      ]
    },
    {
      "cell_type": "code",
      "metadata": {
        "id": "Z1IpCsjqeGpW",
        "colab": {
          "base_uri": "https://localhost:8080/"
        },
        "outputId": "edd21947-5a45-4de7-996e-7c151f408cd4"
      },
      "source": [
        "install.packages(\"tidyverse\")"
      ],
      "execution_count": 1,
      "outputs": [
        {
          "output_type": "stream",
          "text": [
            "Installing package into ‘/usr/local/lib/R/site-library’\n",
            "(as ‘lib’ is unspecified)\n",
            "\n"
          ],
          "name": "stderr"
        }
      ]
    },
    {
      "cell_type": "markdown",
      "metadata": {
        "id": "gVd3EA19bK3H"
      },
      "source": [
        ""
      ]
    },
    {
      "cell_type": "markdown",
      "metadata": {
        "id": "AZC-7hPQbBA8"
      },
      "source": [
        "Now lets install Lime, Recipes and H2O packages "
      ]
    },
    {
      "cell_type": "code",
      "metadata": {
        "colab": {
          "base_uri": "https://localhost:8080/"
        },
        "id": "dTX1hOY2a_rU",
        "outputId": "e6663844-5f0e-4182-a412-945f86c5db9f"
      },
      "source": [
        "install.packages(\"lime\")\n",
        "install.packages(\"h2o\")\n",
        "install.packages(\"recipes\")"
      ],
      "execution_count": 2,
      "outputs": [
        {
          "output_type": "stream",
          "text": [
            "Installing package into ‘/usr/local/lib/R/site-library’\n",
            "(as ‘lib’ is unspecified)\n",
            "\n",
            "also installing the dependencies ‘iterators’, ‘foreach’, ‘shape’, ‘httpuv’, ‘xtable’, ‘sourcetools’, ‘fastmap’, ‘glmnet’, ‘shiny’, ‘shinythemes’, ‘gower’, ‘RcppEigen’\n",
            "\n",
            "\n",
            "Installing package into ‘/usr/local/lib/R/site-library’\n",
            "(as ‘lib’ is unspecified)\n",
            "\n",
            "also installing the dependencies ‘bitops’, ‘RCurl’\n",
            "\n",
            "\n",
            "Installing package into ‘/usr/local/lib/R/site-library’\n",
            "(as ‘lib’ is unspecified)\n",
            "\n",
            "also installing the dependencies ‘numDeriv’, ‘SQUAREM’, ‘lava’, ‘prodlim’, ‘ipred’, ‘timeDate’\n",
            "\n",
            "\n"
          ],
          "name": "stderr"
        }
      ]
    },
    {
      "cell_type": "code",
      "metadata": {
        "colab": {
          "base_uri": "https://localhost:8080/"
        },
        "id": "ZFltUq7beB6t",
        "outputId": "59cbaf63-4e2d-423a-9aaf-b6c090a5694e"
      },
      "source": [
        "library(tidyverse)\n",
        "library(h2o)\n",
        "library(lime)\n",
        "library(recipes)"
      ],
      "execution_count": 3,
      "outputs": [
        {
          "output_type": "stream",
          "text": [
            "── \u001b[1mAttaching packages\u001b[22m ─────────────────────────────────────── tidyverse 1.3.0 ──\n",
            "\n",
            "\u001b[32m✔\u001b[39m \u001b[34mggplot2\u001b[39m 3.3.2     \u001b[32m✔\u001b[39m \u001b[34mpurrr  \u001b[39m 0.3.4\n",
            "\u001b[32m✔\u001b[39m \u001b[34mtibble \u001b[39m 3.0.4     \u001b[32m✔\u001b[39m \u001b[34mdplyr  \u001b[39m 1.0.2\n",
            "\u001b[32m✔\u001b[39m \u001b[34mtidyr  \u001b[39m 1.1.2     \u001b[32m✔\u001b[39m \u001b[34mstringr\u001b[39m 1.4.0\n",
            "\u001b[32m✔\u001b[39m \u001b[34mreadr  \u001b[39m 1.4.0     \u001b[32m✔\u001b[39m \u001b[34mforcats\u001b[39m 0.5.0\n",
            "\n",
            "── \u001b[1mConflicts\u001b[22m ────────────────────────────────────────── tidyverse_conflicts() ──\n",
            "\u001b[31m✖\u001b[39m \u001b[34mdplyr\u001b[39m::\u001b[32mfilter()\u001b[39m masks \u001b[34mstats\u001b[39m::filter()\n",
            "\u001b[31m✖\u001b[39m \u001b[34mdplyr\u001b[39m::\u001b[32mlag()\u001b[39m    masks \u001b[34mstats\u001b[39m::lag()\n",
            "\n",
            "\n",
            "----------------------------------------------------------------------\n",
            "\n",
            "Your next step is to start H2O:\n",
            "    > h2o.init()\n",
            "\n",
            "For H2O package documentation, ask for help:\n",
            "    > ??h2o\n",
            "\n",
            "After starting H2O, you can use the Web UI at http://localhost:54321\n",
            "For more information visit https://docs.h2o.ai\n",
            "\n",
            "----------------------------------------------------------------------\n",
            "\n",
            "\n",
            "\n",
            "Attaching package: ‘h2o’\n",
            "\n",
            "\n",
            "The following objects are masked from ‘package:stats’:\n",
            "\n",
            "    cor, sd, var\n",
            "\n",
            "\n",
            "The following objects are masked from ‘package:base’:\n",
            "\n",
            "    &&, %*%, %in%, ||, apply, as.factor, as.numeric, colnames,\n",
            "    colnames<-, ifelse, is.character, is.factor, is.numeric, log,\n",
            "    log10, log1p, log2, round, signif, trunc\n",
            "\n",
            "\n",
            "\n",
            "Attaching package: ‘lime’\n",
            "\n",
            "\n",
            "The following object is masked from ‘package:dplyr’:\n",
            "\n",
            "    explain\n",
            "\n",
            "\n",
            "\n",
            "Attaching package: ‘recipes’\n",
            "\n",
            "\n",
            "The following object is masked from ‘package:stringr’:\n",
            "\n",
            "    fixed\n",
            "\n",
            "\n",
            "The following object is masked from ‘package:stats’:\n",
            "\n",
            "    step\n",
            "\n",
            "\n"
          ],
          "name": "stderr"
        }
      ]
    },
    {
      "cell_type": "markdown",
      "metadata": {
        "id": "8H71-FHSeZcl"
      },
      "source": [
        "**Now we are going to load our dataset**"
      ]
    },
    {
      "cell_type": "code",
      "metadata": {
        "colab": {
          "base_uri": "https://localhost:8080/",
          "height": 720
        },
        "id": "GSmvfaLneY_N",
        "outputId": "319e11b2-7328-4476-d28b-abbecd307975"
      },
      "source": [
        "hr_data_raw <- read_csv(\"/content/HR-Employee-Attrition.csv\")\n",
        "hr_data_raw[1:10,]"
      ],
      "execution_count": 4,
      "outputs": [
        {
          "output_type": "stream",
          "text": [
            "\n",
            "\u001b[36m──\u001b[39m \u001b[1m\u001b[1mColumn specification\u001b[1m\u001b[22m \u001b[36m────────────────────────────────────────────────────────\u001b[39m\n",
            "cols(\n",
            "  .default = col_double(),\n",
            "  Attrition = \u001b[31mcol_character()\u001b[39m,\n",
            "  BusinessTravel = \u001b[31mcol_character()\u001b[39m,\n",
            "  Department = \u001b[31mcol_character()\u001b[39m,\n",
            "  EducationField = \u001b[31mcol_character()\u001b[39m,\n",
            "  Gender = \u001b[31mcol_character()\u001b[39m,\n",
            "  JobRole = \u001b[31mcol_character()\u001b[39m,\n",
            "  MaritalStatus = \u001b[31mcol_character()\u001b[39m,\n",
            "  Over18 = \u001b[31mcol_character()\u001b[39m,\n",
            "  OverTime = \u001b[31mcol_character()\u001b[39m\n",
            ")\n",
            "\u001b[36mℹ\u001b[39m Use \u001b[30m\u001b[47m\u001b[30m\u001b[47m`spec()`\u001b[47m\u001b[30m\u001b[49m\u001b[39m for the full column specifications.\n",
            "\n",
            "\n"
          ],
          "name": "stderr"
        },
        {
          "output_type": "display_data",
          "data": {
            "text/plain": [
              "   Age Attrition BusinessTravel    DailyRate Department            \n",
              "1  41  Yes       Travel_Rarely     1102      Sales                 \n",
              "2  49  No        Travel_Frequently  279      Research & Development\n",
              "3  37  Yes       Travel_Rarely     1373      Research & Development\n",
              "4  33  No        Travel_Frequently 1392      Research & Development\n",
              "5  27  No        Travel_Rarely      591      Research & Development\n",
              "6  32  No        Travel_Frequently 1005      Research & Development\n",
              "7  59  No        Travel_Rarely     1324      Research & Development\n",
              "8  30  No        Travel_Rarely     1358      Research & Development\n",
              "9  38  No        Travel_Frequently  216      Research & Development\n",
              "10 36  No        Travel_Rarely     1299      Research & Development\n",
              "   DistanceFromHome Education EducationField EmployeeCount EmployeeNumber ⋯\n",
              "1   1               2         Life Sciences  1              1             ⋯\n",
              "2   8               1         Life Sciences  1              2             ⋯\n",
              "3   2               2         Other          1              4             ⋯\n",
              "4   3               4         Life Sciences  1              5             ⋯\n",
              "5   2               1         Medical        1              7             ⋯\n",
              "6   2               2         Life Sciences  1              8             ⋯\n",
              "7   3               3         Medical        1             10             ⋯\n",
              "8  24               1         Life Sciences  1             11             ⋯\n",
              "9  23               3         Life Sciences  1             12             ⋯\n",
              "10 27               3         Medical        1             13             ⋯\n",
              "   RelationshipSatisfaction StandardHours StockOptionLevel TotalWorkingYears\n",
              "1  1                        80            0                 8               \n",
              "2  4                        80            1                10               \n",
              "3  2                        80            0                 7               \n",
              "4  3                        80            0                 8               \n",
              "5  4                        80            1                 6               \n",
              "6  3                        80            0                 8               \n",
              "7  1                        80            3                12               \n",
              "8  2                        80            1                 1               \n",
              "9  2                        80            0                10               \n",
              "10 2                        80            2                17               \n",
              "   TrainingTimesLastYear WorkLifeBalance YearsAtCompany YearsInCurrentRole\n",
              "1  0                     1                6             4                 \n",
              "2  3                     3               10             7                 \n",
              "3  3                     3                0             0                 \n",
              "4  3                     3                8             7                 \n",
              "5  3                     3                2             2                 \n",
              "6  2                     2                7             7                 \n",
              "7  3                     2                1             0                 \n",
              "8  2                     3                1             0                 \n",
              "9  2                     3                9             7                 \n",
              "10 3                     2                7             7                 \n",
              "   YearsSinceLastPromotion YearsWithCurrManager\n",
              "1  0                       5                   \n",
              "2  1                       7                   \n",
              "3  0                       0                   \n",
              "4  3                       0                   \n",
              "5  2                       2                   \n",
              "6  3                       6                   \n",
              "7  0                       0                   \n",
              "8  0                       0                   \n",
              "9  1                       8                   \n",
              "10 7                       7                   "
            ],
            "text/latex": "A tibble: 10 × 35\n\\begin{tabular}{lllllllllllllllllllll}\n Age & Attrition & BusinessTravel & DailyRate & Department & DistanceFromHome & Education & EducationField & EmployeeCount & EmployeeNumber & ⋯ & RelationshipSatisfaction & StandardHours & StockOptionLevel & TotalWorkingYears & TrainingTimesLastYear & WorkLifeBalance & YearsAtCompany & YearsInCurrentRole & YearsSinceLastPromotion & YearsWithCurrManager\\\\\n <dbl> & <chr> & <chr> & <dbl> & <chr> & <dbl> & <dbl> & <chr> & <dbl> & <dbl> & ⋯ & <dbl> & <dbl> & <dbl> & <dbl> & <dbl> & <dbl> & <dbl> & <dbl> & <dbl> & <dbl>\\\\\n\\hline\n\t 41 & Yes & Travel\\_Rarely     & 1102 & Sales                  &  1 & 2 & Life Sciences & 1 &  1 & ⋯ & 1 & 80 & 0 &  8 & 0 & 1 &  6 & 4 & 0 & 5\\\\\n\t 49 & No  & Travel\\_Frequently &  279 & Research \\& Development &  8 & 1 & Life Sciences & 1 &  2 & ⋯ & 4 & 80 & 1 & 10 & 3 & 3 & 10 & 7 & 1 & 7\\\\\n\t 37 & Yes & Travel\\_Rarely     & 1373 & Research \\& Development &  2 & 2 & Other         & 1 &  4 & ⋯ & 2 & 80 & 0 &  7 & 3 & 3 &  0 & 0 & 0 & 0\\\\\n\t 33 & No  & Travel\\_Frequently & 1392 & Research \\& Development &  3 & 4 & Life Sciences & 1 &  5 & ⋯ & 3 & 80 & 0 &  8 & 3 & 3 &  8 & 7 & 3 & 0\\\\\n\t 27 & No  & Travel\\_Rarely     &  591 & Research \\& Development &  2 & 1 & Medical       & 1 &  7 & ⋯ & 4 & 80 & 1 &  6 & 3 & 3 &  2 & 2 & 2 & 2\\\\\n\t 32 & No  & Travel\\_Frequently & 1005 & Research \\& Development &  2 & 2 & Life Sciences & 1 &  8 & ⋯ & 3 & 80 & 0 &  8 & 2 & 2 &  7 & 7 & 3 & 6\\\\\n\t 59 & No  & Travel\\_Rarely     & 1324 & Research \\& Development &  3 & 3 & Medical       & 1 & 10 & ⋯ & 1 & 80 & 3 & 12 & 3 & 2 &  1 & 0 & 0 & 0\\\\\n\t 30 & No  & Travel\\_Rarely     & 1358 & Research \\& Development & 24 & 1 & Life Sciences & 1 & 11 & ⋯ & 2 & 80 & 1 &  1 & 2 & 3 &  1 & 0 & 0 & 0\\\\\n\t 38 & No  & Travel\\_Frequently &  216 & Research \\& Development & 23 & 3 & Life Sciences & 1 & 12 & ⋯ & 2 & 80 & 0 & 10 & 2 & 3 &  9 & 7 & 1 & 8\\\\\n\t 36 & No  & Travel\\_Rarely     & 1299 & Research \\& Development & 27 & 3 & Medical       & 1 & 13 & ⋯ & 2 & 80 & 2 & 17 & 3 & 2 &  7 & 7 & 7 & 7\\\\\n\\end{tabular}\n",
            "text/markdown": "\nA tibble: 10 × 35\n\n| Age &lt;dbl&gt; | Attrition &lt;chr&gt; | BusinessTravel &lt;chr&gt; | DailyRate &lt;dbl&gt; | Department &lt;chr&gt; | DistanceFromHome &lt;dbl&gt; | Education &lt;dbl&gt; | EducationField &lt;chr&gt; | EmployeeCount &lt;dbl&gt; | EmployeeNumber &lt;dbl&gt; | ⋯ ⋯ | RelationshipSatisfaction &lt;dbl&gt; | StandardHours &lt;dbl&gt; | StockOptionLevel &lt;dbl&gt; | TotalWorkingYears &lt;dbl&gt; | TrainingTimesLastYear &lt;dbl&gt; | WorkLifeBalance &lt;dbl&gt; | YearsAtCompany &lt;dbl&gt; | YearsInCurrentRole &lt;dbl&gt; | YearsSinceLastPromotion &lt;dbl&gt; | YearsWithCurrManager &lt;dbl&gt; |\n|---|---|---|---|---|---|---|---|---|---|---|---|---|---|---|---|---|---|---|---|---|\n| 41 | Yes | Travel_Rarely     | 1102 | Sales                  |  1 | 2 | Life Sciences | 1 |  1 | ⋯ | 1 | 80 | 0 |  8 | 0 | 1 |  6 | 4 | 0 | 5 |\n| 49 | No  | Travel_Frequently |  279 | Research &amp; Development |  8 | 1 | Life Sciences | 1 |  2 | ⋯ | 4 | 80 | 1 | 10 | 3 | 3 | 10 | 7 | 1 | 7 |\n| 37 | Yes | Travel_Rarely     | 1373 | Research &amp; Development |  2 | 2 | Other         | 1 |  4 | ⋯ | 2 | 80 | 0 |  7 | 3 | 3 |  0 | 0 | 0 | 0 |\n| 33 | No  | Travel_Frequently | 1392 | Research &amp; Development |  3 | 4 | Life Sciences | 1 |  5 | ⋯ | 3 | 80 | 0 |  8 | 3 | 3 |  8 | 7 | 3 | 0 |\n| 27 | No  | Travel_Rarely     |  591 | Research &amp; Development |  2 | 1 | Medical       | 1 |  7 | ⋯ | 4 | 80 | 1 |  6 | 3 | 3 |  2 | 2 | 2 | 2 |\n| 32 | No  | Travel_Frequently | 1005 | Research &amp; Development |  2 | 2 | Life Sciences | 1 |  8 | ⋯ | 3 | 80 | 0 |  8 | 2 | 2 |  7 | 7 | 3 | 6 |\n| 59 | No  | Travel_Rarely     | 1324 | Research &amp; Development |  3 | 3 | Medical       | 1 | 10 | ⋯ | 1 | 80 | 3 | 12 | 3 | 2 |  1 | 0 | 0 | 0 |\n| 30 | No  | Travel_Rarely     | 1358 | Research &amp; Development | 24 | 1 | Life Sciences | 1 | 11 | ⋯ | 2 | 80 | 1 |  1 | 2 | 3 |  1 | 0 | 0 | 0 |\n| 38 | No  | Travel_Frequently |  216 | Research &amp; Development | 23 | 3 | Life Sciences | 1 | 12 | ⋯ | 2 | 80 | 0 | 10 | 2 | 3 |  9 | 7 | 1 | 8 |\n| 36 | No  | Travel_Rarely     | 1299 | Research &amp; Development | 27 | 3 | Medical       | 1 | 13 | ⋯ | 2 | 80 | 2 | 17 | 3 | 2 |  7 | 7 | 7 | 7 |\n\n",
            "text/html": [
              "<table>\n",
              "<caption>A tibble: 10 × 35</caption>\n",
              "<thead>\n",
              "\t<tr><th scope=col>Age</th><th scope=col>Attrition</th><th scope=col>BusinessTravel</th><th scope=col>DailyRate</th><th scope=col>Department</th><th scope=col>DistanceFromHome</th><th scope=col>Education</th><th scope=col>EducationField</th><th scope=col>EmployeeCount</th><th scope=col>EmployeeNumber</th><th scope=col>⋯</th><th scope=col>RelationshipSatisfaction</th><th scope=col>StandardHours</th><th scope=col>StockOptionLevel</th><th scope=col>TotalWorkingYears</th><th scope=col>TrainingTimesLastYear</th><th scope=col>WorkLifeBalance</th><th scope=col>YearsAtCompany</th><th scope=col>YearsInCurrentRole</th><th scope=col>YearsSinceLastPromotion</th><th scope=col>YearsWithCurrManager</th></tr>\n",
              "\t<tr><th scope=col>&lt;dbl&gt;</th><th scope=col>&lt;chr&gt;</th><th scope=col>&lt;chr&gt;</th><th scope=col>&lt;dbl&gt;</th><th scope=col>&lt;chr&gt;</th><th scope=col>&lt;dbl&gt;</th><th scope=col>&lt;dbl&gt;</th><th scope=col>&lt;chr&gt;</th><th scope=col>&lt;dbl&gt;</th><th scope=col>&lt;dbl&gt;</th><th scope=col>⋯</th><th scope=col>&lt;dbl&gt;</th><th scope=col>&lt;dbl&gt;</th><th scope=col>&lt;dbl&gt;</th><th scope=col>&lt;dbl&gt;</th><th scope=col>&lt;dbl&gt;</th><th scope=col>&lt;dbl&gt;</th><th scope=col>&lt;dbl&gt;</th><th scope=col>&lt;dbl&gt;</th><th scope=col>&lt;dbl&gt;</th><th scope=col>&lt;dbl&gt;</th></tr>\n",
              "</thead>\n",
              "<tbody>\n",
              "\t<tr><td>41</td><td>Yes</td><td>Travel_Rarely    </td><td>1102</td><td>Sales                 </td><td> 1</td><td>2</td><td>Life Sciences</td><td>1</td><td> 1</td><td>⋯</td><td>1</td><td>80</td><td>0</td><td> 8</td><td>0</td><td>1</td><td> 6</td><td>4</td><td>0</td><td>5</td></tr>\n",
              "\t<tr><td>49</td><td>No </td><td>Travel_Frequently</td><td> 279</td><td>Research &amp; Development</td><td> 8</td><td>1</td><td>Life Sciences</td><td>1</td><td> 2</td><td>⋯</td><td>4</td><td>80</td><td>1</td><td>10</td><td>3</td><td>3</td><td>10</td><td>7</td><td>1</td><td>7</td></tr>\n",
              "\t<tr><td>37</td><td>Yes</td><td><span style=white-space:pre-wrap>Travel_Rarely    </span></td><td>1373</td><td>Research &amp; Development</td><td> 2</td><td>2</td><td><span style=white-space:pre-wrap>Other        </span></td><td>1</td><td> 4</td><td>⋯</td><td>2</td><td>80</td><td>0</td><td> 7</td><td>3</td><td>3</td><td> 0</td><td>0</td><td>0</td><td>0</td></tr>\n",
              "\t<tr><td>33</td><td>No </td><td>Travel_Frequently</td><td>1392</td><td>Research &amp; Development</td><td> 3</td><td>4</td><td>Life Sciences</td><td>1</td><td> 5</td><td>⋯</td><td>3</td><td>80</td><td>0</td><td> 8</td><td>3</td><td>3</td><td> 8</td><td>7</td><td>3</td><td>0</td></tr>\n",
              "\t<tr><td>27</td><td>No </td><td><span style=white-space:pre-wrap>Travel_Rarely    </span></td><td> 591</td><td>Research &amp; Development</td><td> 2</td><td>1</td><td><span style=white-space:pre-wrap>Medical      </span></td><td>1</td><td> 7</td><td>⋯</td><td>4</td><td>80</td><td>1</td><td> 6</td><td>3</td><td>3</td><td> 2</td><td>2</td><td>2</td><td>2</td></tr>\n",
              "\t<tr><td>32</td><td>No </td><td>Travel_Frequently</td><td>1005</td><td>Research &amp; Development</td><td> 2</td><td>2</td><td>Life Sciences</td><td>1</td><td> 8</td><td>⋯</td><td>3</td><td>80</td><td>0</td><td> 8</td><td>2</td><td>2</td><td> 7</td><td>7</td><td>3</td><td>6</td></tr>\n",
              "\t<tr><td>59</td><td>No </td><td><span style=white-space:pre-wrap>Travel_Rarely    </span></td><td>1324</td><td>Research &amp; Development</td><td> 3</td><td>3</td><td><span style=white-space:pre-wrap>Medical      </span></td><td>1</td><td>10</td><td>⋯</td><td>1</td><td>80</td><td>3</td><td>12</td><td>3</td><td>2</td><td> 1</td><td>0</td><td>0</td><td>0</td></tr>\n",
              "\t<tr><td>30</td><td>No </td><td><span style=white-space:pre-wrap>Travel_Rarely    </span></td><td>1358</td><td>Research &amp; Development</td><td>24</td><td>1</td><td>Life Sciences</td><td>1</td><td>11</td><td>⋯</td><td>2</td><td>80</td><td>1</td><td> 1</td><td>2</td><td>3</td><td> 1</td><td>0</td><td>0</td><td>0</td></tr>\n",
              "\t<tr><td>38</td><td>No </td><td>Travel_Frequently</td><td> 216</td><td>Research &amp; Development</td><td>23</td><td>3</td><td>Life Sciences</td><td>1</td><td>12</td><td>⋯</td><td>2</td><td>80</td><td>0</td><td>10</td><td>2</td><td>3</td><td> 9</td><td>7</td><td>1</td><td>8</td></tr>\n",
              "\t<tr><td>36</td><td>No </td><td><span style=white-space:pre-wrap>Travel_Rarely    </span></td><td>1299</td><td>Research &amp; Development</td><td>27</td><td>3</td><td><span style=white-space:pre-wrap>Medical      </span></td><td>1</td><td>13</td><td>⋯</td><td>2</td><td>80</td><td>2</td><td>17</td><td>3</td><td>2</td><td> 7</td><td>7</td><td>7</td><td>7</td></tr>\n",
              "</tbody>\n",
              "</table>\n"
            ]
          },
          "metadata": {
            "tags": []
          }
        }
      ]
    },
    {
      "cell_type": "markdown",
      "metadata": {
        "id": "AhaMjoonfRKh"
      },
      "source": [
        "**Data Processing**"
      ]
    },
    {
      "cell_type": "markdown",
      "metadata": {
        "id": "GJknhmlyfeVl"
      },
      "source": [
        "Lets convert non numerical variables to be factors"
      ]
    },
    {
      "cell_type": "code",
      "metadata": {
        "id": "Jp-eOLllfU-5"
      },
      "source": [
        "hr_data <- hr_data_raw %>%\n",
        "    mutate_if(is.character, as.factor) %>%\n",
        "    select(Attrition, everything())"
      ],
      "execution_count": 5,
      "outputs": []
    },
    {
      "cell_type": "code",
      "metadata": {
        "id": "ufSqyC33f6If"
      },
      "source": [
        "recipe_data <- hr_data %>%\n",
        "  recipe(formula = Attrition ~ .) %>%\n",
        "  step_rm(EmployeeNumber) %>%\n",
        "  step_zv(all_predictors()) %>%\n",
        "  step_center(all_numeric()) %>%\n",
        "  step_scale(all_numeric()) %>%\n",
        "  prep(data = hr_data)"
      ],
      "execution_count": 6,
      "outputs": []
    },
    {
      "cell_type": "code",
      "metadata": {
        "colab": {
          "base_uri": "https://localhost:8080/"
        },
        "id": "EW63xZu4gA37",
        "outputId": "ce5864dd-e4d1-4bc8-c13b-bce36c579124"
      },
      "source": [
        "hr_data <- bake(recipe_data, new_data = hr_data) \n",
        "glimpse(hr_data)"
      ],
      "execution_count": 7,
      "outputs": [
        {
          "output_type": "stream",
          "text": [
            "Rows: 1,470\n",
            "Columns: 31\n",
            "$ Age                      \u001b[3m\u001b[90m<dbl>\u001b[39m\u001b[23m 0.44619856, 1.32191535, 0.00834016, -0.42951…\n",
            "$ BusinessTravel           \u001b[3m\u001b[90m<fct>\u001b[39m\u001b[23m Travel_Rarely, Travel_Frequently, Travel_Rar…\n",
            "$ DailyRate                \u001b[3m\u001b[90m<dbl>\u001b[39m\u001b[23m 0.74227393, -1.29733311, 1.41388208, 1.46096…\n",
            "$ Department               \u001b[3m\u001b[90m<fct>\u001b[39m\u001b[23m Sales, Research & Development, Research & De…\n",
            "$ DistanceFromHome         \u001b[3m\u001b[90m<dbl>\u001b[39m\u001b[23m -1.01056544, -0.14709966, -0.88721318, -0.76…\n",
            "$ Education                \u001b[3m\u001b[90m<dbl>\u001b[39m\u001b[23m -0.89138490, -1.86779013, -0.89138490, 1.061…\n",
            "$ EducationField           \u001b[3m\u001b[90m<fct>\u001b[39m\u001b[23m Life Sciences, Life Sciences, Other, Life Sc…\n",
            "$ EnvironmentSatisfaction  \u001b[3m\u001b[90m<dbl>\u001b[39m\u001b[23m -0.6603060, 0.2545383, 1.1693826, 1.1693826,…\n",
            "$ Gender                   \u001b[3m\u001b[90m<fct>\u001b[39m\u001b[23m Female, Male, Male, Female, Male, Male, Fema…\n",
            "$ HourlyRate               \u001b[3m\u001b[90m<dbl>\u001b[39m\u001b[23m 1.38266773, -0.24059489, 1.28428818, -0.4865…\n",
            "$ JobInvolvement           \u001b[3m\u001b[90m<dbl>\u001b[39m\u001b[23m 0.379543, -1.025818, -1.025818, 0.379543, 0.…\n",
            "$ JobLevel                 \u001b[3m\u001b[90m<dbl>\u001b[39m\u001b[23m -0.05776789, -0.05776789, -0.96115930, -0.96…\n",
            "$ JobRole                  \u001b[3m\u001b[90m<fct>\u001b[39m\u001b[23m Sales Executive, Research Scientist, Laborat…\n",
            "$ JobSatisfaction          \u001b[3m\u001b[90m<dbl>\u001b[39m\u001b[23m 1.1528613, -0.6606284, 0.2461164, 0.2461164,…\n",
            "$ MaritalStatus            \u001b[3m\u001b[90m<fct>\u001b[39m\u001b[23m Single, Married, Single, Married, Married, S…\n",
            "$ MonthlyIncome            \u001b[3m\u001b[90m<dbl>\u001b[39m\u001b[23m -0.1083127, -0.2916193, -0.9373347, -0.76337…\n",
            "$ MonthlyRate              \u001b[3m\u001b[90m<dbl>\u001b[39m\u001b[23m 0.7257730, 1.4883696, -1.6742711, 1.2427877,…\n",
            "$ NumCompaniesWorked       \u001b[3m\u001b[90m<dbl>\u001b[39m\u001b[23m 2.1244130, -0.6778187, 1.3237753, -0.6778187…\n",
            "$ OverTime                 \u001b[3m\u001b[90m<fct>\u001b[39m\u001b[23m Yes, No, Yes, Yes, No, No, Yes, No, No, No, …\n",
            "$ PercentSalaryHike        \u001b[3m\u001b[90m<dbl>\u001b[39m\u001b[23m -1.15016269, 2.12858163, -0.05724792, -1.150…\n",
            "$ PerformanceRating        \u001b[3m\u001b[90m<dbl>\u001b[39m\u001b[23m -0.426085, 2.345353, -0.426085, -0.426085, -…\n",
            "$ RelationshipSatisfaction \u001b[3m\u001b[90m<dbl>\u001b[39m\u001b[23m -1.5836393, 1.1910327, -0.6587487, 0.2661420…\n",
            "$ StockOptionLevel         \u001b[3m\u001b[90m<dbl>\u001b[39m\u001b[23m -0.9316973, 0.2419060, -0.9316973, -0.931697…\n",
            "$ TotalWorkingYears        \u001b[3m\u001b[90m<dbl>\u001b[39m\u001b[23m -0.42149902, -0.16445544, -0.55002081, -0.42…\n",
            "$ TrainingTimesLastYear    \u001b[3m\u001b[90m<dbl>\u001b[39m\u001b[23m -2.1712429, 0.1556541, 0.1556541, 0.1556541,…\n",
            "$ WorkLifeBalance          \u001b[3m\u001b[90m<dbl>\u001b[39m\u001b[23m -2.4929720, 0.3379811, 0.3379811, 0.3379811,…\n",
            "$ YearsAtCompany           \u001b[3m\u001b[90m<dbl>\u001b[39m\u001b[23m -0.164557109, 0.488341541, -1.143905083, 0.1…\n",
            "$ YearsInCurrentRole       \u001b[3m\u001b[90m<dbl>\u001b[39m\u001b[23m -0.06327437, 0.76473737, -1.16729002, 0.7647…\n",
            "$ YearsSinceLastPromotion  \u001b[3m\u001b[90m<dbl>\u001b[39m\u001b[23m -0.67891464, -0.36858985, -0.67891464, 0.252…\n",
            "$ YearsWithCurrManager     \u001b[3m\u001b[90m<dbl>\u001b[39m\u001b[23m 0.2457504, 0.8062671, -1.1555415, -1.1555415…\n",
            "$ Attrition                \u001b[3m\u001b[90m<fct>\u001b[39m\u001b[23m Yes, No, Yes, No, No, No, No, No, No, No, No…\n"
          ],
          "name": "stdout"
        }
      ]
    },
    {
      "cell_type": "markdown",
      "metadata": {
        "id": "b5gUv2CtgOMB"
      },
      "source": [
        "Lets start the H2O cluster and create our train and test sets."
      ]
    },
    {
      "cell_type": "code",
      "metadata": {
        "colab": {
          "base_uri": "https://localhost:8080/"
        },
        "id": "N2nPJe5mgWeD",
        "outputId": "497ddc92-7fd7-4766-a6e8-20a3e864712a"
      },
      "source": [
        "h2o.init(max_mem_size = \"4g\")"
      ],
      "execution_count": 8,
      "outputs": [
        {
          "output_type": "stream",
          "text": [
            "\n",
            "H2O is not running yet, starting it now...\n",
            "\n",
            "Note:  In case of errors look at the following log files:\n",
            "    /tmp/Rtmp94BoJJ/file3734821587/h2o_UnknownUser_started_from_r.out\n",
            "    /tmp/Rtmp94BoJJ/file374a773ca3/h2o_UnknownUser_started_from_r.err\n",
            "\n",
            "\n",
            "Starting H2O JVM and connecting: .... Connection successful!\n",
            "\n",
            "R is connected to the H2O cluster: \n",
            "    H2O cluster uptime:         3 seconds 359 milliseconds \n",
            "    H2O cluster timezone:       Etc/UTC \n",
            "    H2O data parsing timezone:  UTC \n",
            "    H2O cluster version:        3.32.0.1 \n",
            "    H2O cluster version age:    1 month and 12 days  \n",
            "    H2O cluster name:           H2O_started_from_R_root_gxy296 \n",
            "    H2O cluster total nodes:    1 \n",
            "    H2O cluster total memory:   4.00 GB \n",
            "    H2O cluster total cores:    2 \n",
            "    H2O cluster allowed cores:  2 \n",
            "    H2O cluster healthy:        TRUE \n",
            "    H2O Connection ip:          localhost \n",
            "    H2O Connection port:        54321 \n",
            "    H2O Connection proxy:       NA \n",
            "    H2O Internal Security:      FALSE \n",
            "    H2O API Extensions:         Amazon S3, XGBoost, Algos, AutoML, Core V3, TargetEncoder, Core V4 \n",
            "    R Version:                  R version 4.0.3 (2020-10-10) \n",
            "\n"
          ],
          "name": "stdout"
        }
      ]
    },
    {
      "cell_type": "markdown",
      "metadata": {
        "id": "DZVASp9Vgi4o"
      },
      "source": [
        "Train, valid and Test splits"
      ]
    },
    {
      "cell_type": "code",
      "metadata": {
        "colab": {
          "base_uri": "https://localhost:8080/"
        },
        "id": "Tk-WKMbwgl9z",
        "outputId": "05cc6de8-0d82-4b12-b4a3-704993012630"
      },
      "source": [
        "set.seed(1234)\n",
        "hr_data_h2o <- as.h2o(hr_data)"
      ],
      "execution_count": 9,
      "outputs": [
        {
          "output_type": "stream",
          "text": [
            "  |======================================================================| 100%\n"
          ],
          "name": "stdout"
        }
      ]
    },
    {
      "cell_type": "code",
      "metadata": {
        "id": "PTGpJUYjgykE"
      },
      "source": [
        "splits <- h2o.splitFrame(hr_data_h2o, c(0.7, 0.15), seed = 1234)"
      ],
      "execution_count": 10,
      "outputs": []
    },
    {
      "cell_type": "markdown",
      "metadata": {
        "id": "C8ioeaBhg8ky"
      },
      "source": [
        "train, valid and test data"
      ]
    },
    {
      "cell_type": "code",
      "metadata": {
        "id": "1JXhfxOog79c"
      },
      "source": [
        "train <- h2o.assign(splits[[1]], \"train\" )\n",
        "valid <- h2o.assign(splits[[2]], \"valid\" )\n",
        "test  <- h2o.assign(splits[[3]], \"test\" )"
      ],
      "execution_count": 11,
      "outputs": []
    },
    {
      "cell_type": "markdown",
      "metadata": {
        "id": "JIFvPqEIhX1p"
      },
      "source": [
        "**Lets Run AutoML to Train and Tune Models**"
      ]
    },
    {
      "cell_type": "code",
      "metadata": {
        "id": "I4-TfSN-hao-"
      },
      "source": [
        "y <- \"Attrition\"\n",
        "x <- setdiff(names(train), y)\n"
      ],
      "execution_count": 12,
      "outputs": []
    },
    {
      "cell_type": "code",
      "metadata": {
        "colab": {
          "base_uri": "https://localhost:8080/"
        },
        "id": "FT_xlzT2iSU4",
        "outputId": "93e93cbf-d874-430d-eae0-2f219b9d07b8"
      },
      "source": [
        "aml <- h2o.automl(x = x, \n",
        "                  y = y,\n",
        "                  training_frame = train,\n",
        "                  leaderboard_frame = valid,\n",
        "                  #max_runtime_secs  = 300,\n",
        "                  max_runtime_secs = 60)"
      ],
      "execution_count": 13,
      "outputs": [
        {
          "output_type": "stream",
          "text": [
            "  |======================================================================| 100%\n"
          ],
          "name": "stdout"
        }
      ]
    },
    {
      "cell_type": "markdown",
      "metadata": {
        "id": "zkOXFy0uizsd"
      },
      "source": [
        "**Leaderboard Exploration**"
      ]
    },
    {
      "cell_type": "code",
      "metadata": {
        "colab": {
          "base_uri": "https://localhost:8080/"
        },
        "id": "qnLfQ4GCi1cs",
        "outputId": "6fbec6ba-43ad-4428-a56a-257d5171983d"
      },
      "source": [
        "lb <- aml@leaderboard\n",
        "print(lb, n=nrow(lb))\n",
        "best_model <- aml@leader\n",
        "model_ids <-as.data.frame(aml@leaderboard$model_id)[,1]\n",
        "best_model <- h2o.getModel(grep(\"StackedEnsemble_BestOfFamily\", model_ids, value=TRUE)[1])"
      ],
      "execution_count": 14,
      "outputs": [
        {
          "output_type": "stream",
          "text": [
            "                                              model_id       auc   logloss\n",
            "1  StackedEnsemble_BestOfFamily_AutoML_20201121_160039 0.8072114 0.3638072\n",
            "2     StackedEnsemble_AllModels_AutoML_20201121_160039 0.8024135 0.3777907\n",
            "3                     XGBoost_3_AutoML_20201121_160039 0.7976156 0.3758660\n",
            "4       XGBoost_grid__1_AutoML_20201121_160039_model_2 0.7897645 0.3890092\n",
            "5                     XGBoost_2_AutoML_20201121_160039 0.7848212 0.3787711\n",
            "6                         GLM_1_AutoML_20201121_160039 0.7830765 0.4164302\n",
            "7       XGBoost_grid__1_AutoML_20201121_160039_model_4 0.7813318 0.3822770\n",
            "8                         GBM_4_AutoML_20201121_160039 0.7790782 0.3945454\n",
            "9       XGBoost_grid__1_AutoML_20201121_160039_model_1 0.7763885 0.3872965\n",
            "10      XGBoost_grid__1_AutoML_20201121_160039_model_5 0.7723175 0.3896328\n",
            "11      XGBoost_grid__1_AutoML_20201121_160039_model_3 0.7714452 0.3954400\n",
            "12          GBM_grid__1_AutoML_20201121_160039_model_2 0.7582146 0.4003468\n",
            "13          GBM_grid__1_AutoML_20201121_160039_model_1 0.7567607 0.4184821\n",
            "14      XGBoost_grid__1_AutoML_20201121_160039_model_6 0.7377145 0.3971360\n",
            "15                        GBM_5_AutoML_20201121_160039 0.7372783 0.4092654\n",
            "16                        GBM_1_AutoML_20201121_160039 0.7158331 0.4145882\n",
            "17                        GBM_3_AutoML_20201121_160039 0.7109625 0.4179044\n",
            "18                        DRF_1_AutoML_20201121_160039 0.7007124 1.8616775\n",
            "19                        GBM_2_AutoML_20201121_160039 0.7000582 0.4162020\n",
            "20                    XGBoost_1_AutoML_20201121_160039 0.6967869 0.4186342\n",
            "21                        XRT_1_AutoML_20201121_160039 0.6956237 1.5604921\n",
            "22               DeepLearning_1_AutoML_20201121_160039 0.6573132 0.4991017\n",
            "23          GBM_grid__1_AutoML_20201121_160039_model_3 0.6364495 0.4526782\n",
            "       aucpr mean_per_class_error      rmse       mse\n",
            "1  0.5540952            0.2636668 0.3347739 0.1120736\n",
            "2  0.5318965            0.2295726 0.3420541 0.1170010\n",
            "3  0.5450792            0.3101192 0.3382409 0.1144069\n",
            "4  0.5276020            0.2615586 0.3392148 0.1150667\n",
            "5  0.5054326            0.2636668 0.3390114 0.1149287\n",
            "6  0.4717805            0.3094650 0.3606610 0.1300764\n",
            "7  0.5251013            0.2456383 0.3354055 0.1124969\n",
            "8  0.4999797            0.2734080 0.3493366 0.1220360\n",
            "9  0.5231225            0.3149898 0.3403657 0.1158488\n",
            "10 0.4840414            0.2683920 0.3458660 0.1196233\n",
            "11 0.4868357            0.2766793 0.3457071 0.1195134\n",
            "12 0.4590579            0.2912911 0.3513470 0.1234447\n",
            "13 0.4720242            0.2891829 0.3512583 0.1233824\n",
            "14 0.4965056            0.3274935 0.3431113 0.1177253\n",
            "15 0.4306426            0.2961617 0.3561091 0.1268137\n",
            "16 0.4419299            0.3309101 0.3567986 0.1273053\n",
            "17 0.4106983            0.3008869 0.3591980 0.1290232\n",
            "18 0.3740644            0.3509014 0.3781734 0.1430151\n",
            "19 0.4426112            0.2885286 0.3575560 0.1278463\n",
            "20 0.4234873            0.3341814 0.3575619 0.1278505\n",
            "21 0.4100797            0.3272027 0.3659878 0.1339471\n",
            "22 0.2906962            0.3652224 0.3771185 0.1422183\n",
            "23 0.2665287            0.3679849 0.3753467 0.1408852\n",
            "\n",
            "[23 rows x 7 columns] \n"
          ],
          "name": "stdout"
        }
      ]
    },
    {
      "cell_type": "markdown",
      "metadata": {
        "id": "SugupDP_jHo_"
      },
      "source": [
        "**Lets Evaluate ou Model Performance**"
      ]
    },
    {
      "cell_type": "code",
      "metadata": {
        "colab": {
          "base_uri": "https://localhost:8080/",
          "height": 372
        },
        "id": "88WxaYL7jNez",
        "outputId": "c79c69be-8afb-467d-8895-dea1153f98e7"
      },
      "source": [
        "perf <- h2o.performance(best_model, newdata = test)\n",
        "optimal_threshold <- h2o.find_threshold_by_max_metric(perf, \"f1\")\n",
        "metrics <- as.data.frame(h2o.metric(perf, optimal_threshold))\n",
        "t(metrics)"
      ],
      "execution_count": 15,
      "outputs": [
        {
          "output_type": "display_data",
          "data": {
            "text/plain": [
              "                        43         \n",
              "f1                        0.5833333\n",
              "f2                        0.6603774\n",
              "f0point5                  0.5223881\n",
              "accuracy                  0.8578199\n",
              "precision                 0.4883721\n",
              "recall                    0.7241379\n",
              "specificity               0.8791209\n",
              "absolute_mcc              0.5156434\n",
              "min_per_class_accuracy    0.7241379\n",
              "mean_per_class_accuracy   0.8016294\n",
              "tns                     160.0000000\n",
              "fns                       8.0000000\n",
              "fps                      22.0000000\n",
              "tps                      21.0000000\n",
              "tnr                       0.8791209\n",
              "fnr                       0.2758621\n",
              "fpr                       0.1208791\n",
              "tpr                       0.7241379"
            ],
            "text/latex": "A matrix: 18 × 1 of type dbl\n\\begin{tabular}{r|l}\n  & 43\\\\\n\\hline\n\tf1 &   0.5833333\\\\\n\tf2 &   0.6603774\\\\\n\tf0point5 &   0.5223881\\\\\n\taccuracy &   0.8578199\\\\\n\tprecision &   0.4883721\\\\\n\trecall &   0.7241379\\\\\n\tspecificity &   0.8791209\\\\\n\tabsolute\\_mcc &   0.5156434\\\\\n\tmin\\_per\\_class\\_accuracy &   0.7241379\\\\\n\tmean\\_per\\_class\\_accuracy &   0.8016294\\\\\n\ttns & 160.0000000\\\\\n\tfns &   8.0000000\\\\\n\tfps &  22.0000000\\\\\n\ttps &  21.0000000\\\\\n\ttnr &   0.8791209\\\\\n\tfnr &   0.2758621\\\\\n\tfpr &   0.1208791\\\\\n\ttpr &   0.7241379\\\\\n\\end{tabular}\n",
            "text/markdown": "\nA matrix: 18 × 1 of type dbl\n\n| <!--/--> | 43 |\n|---|---|\n| f1 |   0.5833333 |\n| f2 |   0.6603774 |\n| f0point5 |   0.5223881 |\n| accuracy |   0.8578199 |\n| precision |   0.4883721 |\n| recall |   0.7241379 |\n| specificity |   0.8791209 |\n| absolute_mcc |   0.5156434 |\n| min_per_class_accuracy |   0.7241379 |\n| mean_per_class_accuracy |   0.8016294 |\n| tns | 160.0000000 |\n| fns |   8.0000000 |\n| fps |  22.0000000 |\n| tps |  21.0000000 |\n| tnr |   0.8791209 |\n| fnr |   0.2758621 |\n| fpr |   0.1208791 |\n| tpr |   0.7241379 |\n\n",
            "text/html": [
              "<table>\n",
              "<caption>A matrix: 18 × 1 of type dbl</caption>\n",
              "<thead>\n",
              "\t<tr><th></th><th scope=col>43</th></tr>\n",
              "</thead>\n",
              "<tbody>\n",
              "\t<tr><th scope=row>f1</th><td>  0.5833333</td></tr>\n",
              "\t<tr><th scope=row>f2</th><td>  0.6603774</td></tr>\n",
              "\t<tr><th scope=row>f0point5</th><td>  0.5223881</td></tr>\n",
              "\t<tr><th scope=row>accuracy</th><td>  0.8578199</td></tr>\n",
              "\t<tr><th scope=row>precision</th><td>  0.4883721</td></tr>\n",
              "\t<tr><th scope=row>recall</th><td>  0.7241379</td></tr>\n",
              "\t<tr><th scope=row>specificity</th><td>  0.8791209</td></tr>\n",
              "\t<tr><th scope=row>absolute_mcc</th><td>  0.5156434</td></tr>\n",
              "\t<tr><th scope=row>min_per_class_accuracy</th><td>  0.7241379</td></tr>\n",
              "\t<tr><th scope=row>mean_per_class_accuracy</th><td>  0.8016294</td></tr>\n",
              "\t<tr><th scope=row>tns</th><td>160.0000000</td></tr>\n",
              "\t<tr><th scope=row>fns</th><td>  8.0000000</td></tr>\n",
              "\t<tr><th scope=row>fps</th><td> 22.0000000</td></tr>\n",
              "\t<tr><th scope=row>tps</th><td> 21.0000000</td></tr>\n",
              "\t<tr><th scope=row>tnr</th><td>  0.8791209</td></tr>\n",
              "\t<tr><th scope=row>fnr</th><td>  0.2758621</td></tr>\n",
              "\t<tr><th scope=row>fpr</th><td>  0.1208791</td></tr>\n",
              "\t<tr><th scope=row>tpr</th><td>  0.7241379</td></tr>\n",
              "</tbody>\n",
              "</table>\n"
            ]
          },
          "metadata": {
            "tags": []
          }
        }
      ]
    },
    {
      "cell_type": "markdown",
      "metadata": {
        "id": "9NI2G6M1jbwt"
      },
      "source": [
        "**Baselearner Variable Importance**"
      ]
    },
    {
      "cell_type": "code",
      "metadata": {
        "colab": {
          "base_uri": "https://localhost:8080/"
        },
        "id": "yyeKLP5GjeCN",
        "outputId": "5003fea8-b700-49fa-9d06-e298c9477115"
      },
      "source": [
        "explainer <- lime(as.data.frame(train[,-31]), best_model, bin_continuous=FALSE)\n",
        "explanation <- explain(as.data.frame(test[3:10, -31]),\n",
        "                       explainer = explainer,\n",
        "                       kernel_width = 1,\n",
        "                       n_features = 5, \n",
        "                       n_labels = 1)"
      ],
      "execution_count": 16,
      "outputs": [
        {
          "output_type": "stream",
          "text": [
            "Warning message:\n",
            "“PerformanceRating does not contain enough variance to use quantile binning. Using standard binning instead.”\n"
          ],
          "name": "stderr"
        },
        {
          "output_type": "stream",
          "text": [
            "  |======================================================================| 100%\n",
            "  |======================================================================| 100%\n"
          ],
          "name": "stdout"
        }
      ]
    },
    {
      "cell_type": "code",
      "metadata": {
        "id": "G4X8sW7el9sy"
      },
      "source": [
        "knitr::opts_chunk$set(fig.width=800, fig.height=800) \n"
      ],
      "execution_count": 23,
      "outputs": []
    },
    {
      "cell_type": "markdown",
      "metadata": {
        "id": "mLnUR0Yoj5LW"
      },
      "source": [
        "Lets plot the futures explanation"
      ]
    },
    {
      "cell_type": "code",
      "metadata": {
        "colab": {
          "base_uri": "https://localhost:8080/",
          "height": 496
        },
        "id": "JazQwUp2j8PJ",
        "outputId": "e3902a56-9216-4ad8-8f08-2f357a5c9fff"
      },
      "source": [
        "plot_features(explanation)\n",
        "options(repr.plot.width = 800, repr.plot.height = 800)"
      ],
      "execution_count": 26,
      "outputs": [
        {
          "output_type": "display_data",
          "data": {
            "image/png": "[encoded data removed]",
            "text/plain": [
              "plot without title"
            ]
          },
          "metadata": {
            "tags": [],
            "image/png": {
              "width": 840,
              "height": 480
            }
          }
        }
      ]
    },
    {
      "cell_type": "markdown",
      "metadata": {
        "id": "1AeIvV4houz-"
      },
      "source": [
        "Lets plot the explanations "
      ]
    },
    {
      "cell_type": "code",
      "metadata": {
        "id": "5X4rTCVmo3f7"
      },
      "source": [
        "plot_explanations(explanation)\n"
      ],
      "execution_count": null,
      "outputs": []
    }
  ]
}