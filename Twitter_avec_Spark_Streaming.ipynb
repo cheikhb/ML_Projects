{
  "nbformat": 4,
  "nbformat_minor": 5,
  "metadata": {
    "celltoolbar": "Éditer les Méta-Données",
    "kernelspec": {
      "display_name": "Python 3",
      "language": "python",
      "name": "python3"
    },
    "language_info": {
      "codemirror_mode": {
        "name": "ipython",
        "version": 3
      },
      "file_extension": ".py",
      "mimetype": "text/x-python",
      "name": "python",
      "nbconvert_exporter": "python",
      "pygments_lexer": "ipython3",
      "version": "3.8.0"
    },
    "colab": {
      "name": "Twitter avec Spark Streaming.ipynb",
      "provenance": [],
      "collapsed_sections": [],
      "include_colab_link": true
    }
  },
  "cells": [
    {
      "cell_type": "markdown",
      "metadata": {
        "id": "view-in-github",
        "colab_type": "text"
      },
      "source": [
        "<a href=\"https://colab.research.google.com/github/cheikhb/ML_Projects/blob/main/Twitter_avec_Spark_Streaming.ipynb\" target=\"_parent\"><img src=\"https://colab.research.google.com/assets/colab-badge.svg\" alt=\"Open In Colab\"/></a>"
      ]
    },
    {
      "cell_type": "markdown",
      "metadata": {
        "id": "ffgK74p2fxtm"
      },
      "source": [
        "# Analyser les Hashtags tendances sur Twitter"
      ],
      "id": "ffgK74p2fxtm"
    },
    {
      "cell_type": "code",
      "metadata": {
        "id": "e8ede68c",
        "colab": {
          "base_uri": "https://localhost:8080/"
        },
        "outputId": "7a459e14-6be0-4844-c77b-dcd2194d93d7"
      },
      "source": [
        "!apt-get update && apt-get install openjdk-8-jdk-headless -qq > /dev/null\n",
        "!wget -q https://downloads.apache.org/spark/spark-3.0.2/spark-3.0.2-bin-hadoop2.7.tgz\n",
        "!tar xf spark-3.0.2-bin-hadoop2.7.tgz\n",
        "!pip install -q findspark pyspark\n",
        "# Cette cellule peut prendre 2 à 3 minutes pour s'exécuter"
      ],
      "id": "e8ede68c",
      "execution_count": null,
      "outputs": [
        {
          "output_type": "stream",
          "text": [
            "Reading package lists... Done\n",
            "\u001b[K     |██████████████▍                 | 95.4MB 31kB/s eta 1:02:55\n",
            "\u001b[31mERROR: THESE PACKAGES DO NOT MATCH THE HASHES FROM THE REQUIREMENTS FILE. If you have updated the package versions, please update the hashes. Otherwise, examine the package contents carefully; someone may have tampered with them.\n",
            "    pyspark from https://files.pythonhosted.org/packages/89/db/e18cfd78e408de957821ec5ca56de1250645b05f8523d169803d8df35a64/pyspark-3.1.2.tar.gz#sha256=5e25ebb18756e9715f4d26848cc7e558035025da74b4fc325a0ebc05ff538e65:\n",
            "        Expected sha256 5e25ebb18756e9715f4d26848cc7e558035025da74b4fc325a0ebc05ff538e65\n",
            "             Got        a02c5df9515b97a56f0adaeeb1453b1451f46fef852d59ba251f59121f518bfc\n",
            "\u001b[0m\n",
            "\u001b[?25h"
          ],
          "name": "stdout"
        }
      ]
    },
    {
      "cell_type": "code",
      "metadata": {
        "colab": {
          "base_uri": "https://localhost:8080/"
        },
        "id": "5rUMiVuOaYBZ",
        "outputId": "0c8a7d9d-4d54-414e-94d9-33451f28bc13"
      },
      "source": [
        "!pip install findspark pyspark"
      ],
      "id": "5rUMiVuOaYBZ",
      "execution_count": null,
      "outputs": [
        {
          "output_type": "stream",
          "text": [
            "Collecting findspark\n",
            "  Using cached https://files.pythonhosted.org/packages/fc/2d/2e39f9a023479ea798eed4351cd66f163ce61e00c717e03c37109f00c0f2/findspark-1.4.2-py2.py3-none-any.whl\n",
            "Collecting pyspark\n",
            "\u001b[?25l  Downloading https://files.pythonhosted.org/packages/89/db/e18cfd78e408de957821ec5ca56de1250645b05f8523d169803d8df35a64/pyspark-3.1.2.tar.gz (212.4MB)\n",
            "\u001b[K     |████████████████████████████████| 212.4MB 55kB/s \n",
            "\u001b[?25hCollecting py4j==0.10.9\n",
            "\u001b[?25l  Downloading https://files.pythonhosted.org/packages/9e/b6/6a4fb90cd235dc8e265a6a2067f2a2c99f0d91787f06aca4bcf7c23f3f80/py4j-0.10.9-py2.py3-none-any.whl (198kB)\n",
            "\u001b[K     |████████████████████████████████| 204kB 9.2MB/s \n",
            "\u001b[?25hBuilding wheels for collected packages: pyspark\n",
            "  Building wheel for pyspark (setup.py) ... \u001b[?25l\u001b[?25hdone\n",
            "  Created wheel for pyspark: filename=pyspark-3.1.2-py2.py3-none-any.whl size=212880768 sha256=c22b95934794b101208740d49c5460b1e8587e9675b7122bd562f2ae478aca80\n",
            "  Stored in directory: /root/.cache/pip/wheels/40/1b/2c/30f43be2627857ab80062bef1527c0128f7b4070b6b2d02139\n",
            "Successfully built pyspark\n",
            "Installing collected packages: findspark, py4j, pyspark\n",
            "Successfully installed findspark-1.4.2 py4j-0.10.9 pyspark-3.1.2\n"
          ],
          "name": "stdout"
        }
      ]
    },
    {
      "cell_type": "markdown",
      "metadata": {
        "id": "xkTOIRnff5JN"
      },
      "source": [
        "## Récupération des Tweets en temps réel\n",
        "\n",
        "### Authentification\n",
        "\n",
        "Depuis la version 2 de l'API Twitter, l'authentification peut être réalisée par l'intermédiaire d'un **jeton d'accès** (appelée *bearer token*)."
      ],
      "id": "xkTOIRnff5JN"
    },
    {
      "cell_type": "code",
      "metadata": {
        "id": "uAqdKrDof7Ex"
      },
      "source": [
        "import json\n",
        "import requests\n",
        "import re\n",
        "\n",
        "# Inscrire son jeton d'accès ici\n",
        "BEARER_TOKEN = \"\""
      ],
      "id": "uAqdKrDof7Ex",
      "execution_count": null,
      "outputs": []
    },
    {
      "cell_type": "markdown",
      "metadata": {
        "id": "CVmAlhXKgA7F"
      },
      "source": [
        "Essayons de faire un test."
      ],
      "id": "CVmAlhXKgA7F"
    },
    {
      "cell_type": "code",
      "metadata": {
        "colab": {
          "base_uri": "https://localhost:8080/"
        },
        "id": "XKYOaU4KgCxM",
        "outputId": "ddcd2e19-29f8-4ff9-f4a6-c51e4b9c63d9"
      },
      "source": [
        "URL = \"https://api.twitter.com/2/tweets/sample/stream?tweet.fields=lang\"\n",
        "HEADERS = {\"Authorization\": \"Bearer {}\".format(BEARER_TOKEN)}\n",
        "\n",
        "with requests.request(\"GET\", URL, headers=HEADERS, stream=True) as response:\n",
        "    print(response.status_code)"
      ],
      "id": "XKYOaU4KgCxM",
      "execution_count": null,
      "outputs": [
        {
          "output_type": "stream",
          "text": [
            "200\n"
          ],
          "name": "stdout"
        }
      ]
    },
    {
      "cell_type": "code",
      "metadata": {
        "id": "kiwg2fkCgHoW"
      },
      "source": [
        "tweets = []\n",
        "\n",
        "n_iter = 0\n",
        "\n",
        "with requests.request(\"GET\", URL, headers=HEADERS, stream=True) as response:\n",
        "    for response_line in response.iter_lines():\n",
        "        if response_line:\n",
        "            json_response = json.loads(response_line)\n",
        "            \n",
        "            if json_response[\"data\"][\"lang\"] != \"en\":  # On ne récupère que les tweets en anglais\n",
        "                continue\n",
        "                \n",
        "            # On veut au moins un hashtag\n",
        "            if len(re.findall(r\"#(\\w*[0-9a-zA-Z]+\\w*[0-9a-zA-Z])\", json_response[\"data\"][\"text\"])) == 0:\n",
        "                continue\n",
        "            \n",
        "            tweets.append(json_response)\n",
        "            n_iter += 1\n",
        "            if n_iter >= 10:  # On ne récupère que 20 Tweets\n",
        "                response.close()  # On détruit la connexion\n",
        "                break"
      ],
      "id": "kiwg2fkCgHoW",
      "execution_count": null,
      "outputs": []
    },
    {
      "cell_type": "code",
      "metadata": {
        "colab": {
          "base_uri": "https://localhost:8080/"
        },
        "id": "_QE0N717gJfy",
        "outputId": "ffef7d42-4857-4e16-f5e9-77772fe618bb"
      },
      "source": [
        "tweets"
      ],
      "id": "_QE0N717gJfy",
      "execution_count": null,
      "outputs": [
        {
          "output_type": "execute_result",
          "data": {
            "text/plain": [
              "[{'data': {'id': '1402227415582081026',\n",
              "   'lang': 'en',\n",
              "   'text': 'RT @tttyongie: \"do you think I\\'m cute?\" #TAEYONG https://t.co/aogWrY0bua'}},\n",
              " {'data': {'id': '1402227419780718597',\n",
              "   'lang': 'en',\n",
              "   'text': 'RT @KBSWorldTV: [KBS WORLD Indonesian] #ENHYPEN | Behind Photos🌟\\nMore photos on KBS WORLD Facebook \\n▶https://t.co/XCV26DXWX6\\n\\n#Heeseung #Ja…'}},\n",
              " {'data': {'id': '1402227419793301504',\n",
              "   'lang': 'en',\n",
              "   'text': \"@br_cath Thanks for joining the party, we'll see you at Square Enix Presents on Sunday at 8:15pm BST! 🥳 \\n \\nWe'll send you a reminder pre-show so you don't miss out, but you can also opt out by replying #stop. https://t.co/hHFpnsN9xS\"}},\n",
              " {'data': {'id': '1402227423974854657',\n",
              "   'lang': 'en',\n",
              "   'text': 'Video footage of the Hpakant’s Tamakhan guerrilla strikes continuing this morning to defy military rules. #WhatsHappeningInMyanmar #RejectCoupRejectASEAN #June8Coup https://t.co/LJxdgh5Pit'}},\n",
              " {'data': {'id': '1402227423970725892',\n",
              "   'lang': 'en',\n",
              "   'text': 'WE GO NA NA NA BEST SONG IN FUCKING EXISTENCE. todas las canciones de awaken the world son GOD #nctdiamond https://t.co/lBrUP8KRqB'}},\n",
              " {'data': {'id': '1402227428169158663',\n",
              "   'lang': 'en',\n",
              "   'text': 'RT @AAthian4fAAns: Actors to have 3 400+ Shows in Bangalore City \\n\\n--&gt; Rajinikanth \\n--&gt; #MaheshBabu \\n--&gt; Prabhas \\n\\n@urstrulymahesh is the O…'}},\n",
              " {'data': {'id': '1402227428169338881',\n",
              "   'lang': 'en',\n",
              "   'text': 'RT @itstonito: What are some of the reasons one might wait till the last minute to file his or her taxes?\\n#EzishaTheProcess https://t.co/Ls…'}},\n",
              " {'data': {'id': '1402227428177727489',\n",
              "   'lang': 'en',\n",
              "   'text': 'RT @goal: OFFICIAL: Netherlands announce Manchester United midfielder Donny van de Beek will miss #EURO2020 due to injury 🤕 https://t.co/zj…'}},\n",
              " {'data': {'id': '1402227428190208003',\n",
              "   'lang': 'en',\n",
              "   'text': '#premierleague #PL #epl #premierleaguefoxsports #football #FootballDaily #UKGovernment #bbcfootball #NUFCTakeover #skynews #BBCnews #fifa #Euro2021 #10downingstreet #chroniclenufc #DailyMail #talksport #nufc #ESPN #politicalnews #itvnews \\nMasters/Hoffmans lies WILL be exposed https://t.co/DWVttiL4t2'}},\n",
              " {'data': {'id': '1402227432376070151',\n",
              "   'lang': 'en',\n",
              "   'text': 'RT @radha956: @KoshtiNeha2 😂🤣\\n\\nThank you \\n\\nJASMIN BHASIN SUPREMACY\\n\\n#JasminiansPrideJasmin'}}]"
            ]
          },
          "metadata": {
            "tags": []
          },
          "execution_count": 13
        }
      ]
    },
    {
      "cell_type": "markdown",
      "metadata": {
        "id": "Q4sTcBa4gNZA"
      },
      "source": [
        "Chaque Tweet contient deux champs : `id`, qui correspond à l'identifiant de l'utilisateur ayant posté le message, et `text`, le contenu du Tweet. C'est évidemment ce contenu qui nous intéresse.\n",
        "\n",
        "En voyant ces quelques Tweets, nous voyons tout d'abord qu'il y a quelques transformations à appliquer sur les textes."
      ],
      "id": "Q4sTcBa4gNZA"
    },
    {
      "cell_type": "code",
      "metadata": {
        "colab": {
          "base_uri": "https://localhost:8080/"
        },
        "id": "GLhNtgKOgRGP",
        "outputId": "0747de04-13b5-4e7b-d572-8976d1159285"
      },
      "source": [
        "import re\n",
        "\n",
        "def process_tweet(tweet):\n",
        "    text = tweet[\"data\"][\"text\"]\n",
        "    return re.findall(r\"#(\\w*[0-9a-zA-Z]+\\w*[0-9a-zA-Z])\", text)\n",
        "\n",
        "for tweet in tweets:\n",
        "    hashtags = process_tweet(tweet)\n",
        "    if len(hashtags) > 0:\n",
        "        print(hashtags)"
      ],
      "id": "GLhNtgKOgRGP",
      "execution_count": null,
      "outputs": [
        {
          "output_type": "stream",
          "text": [
            "['TAEYONG']\n",
            "['ENHYPEN', 'Heeseung', 'Ja']\n",
            "['stop']\n",
            "['WhatsHappeningInMyanmar', 'RejectCoupRejectASEAN', 'June8Coup']\n",
            "['nctdiamond']\n",
            "['MaheshBabu']\n",
            "['EzishaTheProcess']\n",
            "['EURO2020']\n",
            "['premierleague', 'PL', 'epl', 'premierleaguefoxsports', 'football', 'FootballDaily', 'UKGovernment', 'bbcfootball', 'NUFCTakeover', 'skynews', 'BBCnews', 'fifa', 'Euro2021', '10downingstreet', 'chroniclenufc', 'DailyMail', 'talksport', 'nufc', 'ESPN', 'politicalnews', 'itvnews']\n",
            "['JasminiansPrideJasmin']\n"
          ],
          "name": "stdout"
        }
      ]
    },
    {
      "cell_type": "code",
      "metadata": {
        "colab": {
          "base_uri": "https://localhost:8080/"
        },
        "id": "xpCXWgg0gT73",
        "outputId": "b2407875-8088-4cb7-bd84-d6de02b06f32"
      },
      "source": [
        "n_iter = 0\n",
        "\n",
        "with requests.request(\"GET\", URL, headers=HEADERS, stream=True) as response:\n",
        "    for response_line in response.iter_lines():\n",
        "        if response_line:\n",
        "            json_response = json.loads(response_line)\n",
        "            hashtags = process_tweet(json_response)\n",
        "            \n",
        "            if len(hashtags) > 0 and json_response[\"data\"][\"lang\"] == \"en\":\n",
        "                print(hashtags)\n",
        "                n_iter += 1\n",
        "                if n_iter >= 30:  # On s'arrête après 30 hashtags\n",
        "                    response.close()\n",
        "                    break"
      ],
      "id": "xpCXWgg0gT73",
      "execution_count": null,
      "outputs": [
        {
          "output_type": "stream",
          "text": [
            "['IDOs', 'CTBot']\n",
            "['ActiveTeachersForce']\n",
            "['TumhareRobertJija']\n",
            "['tuesdaymotivations']\n",
            "['SeethaRAMaRajuCHARAN', 'RRR', 'Siddha']\n",
            "['enoughvit']\n",
            "['CryptoSlate']\n",
            "['Cyberpunk2077', 'XboxSeriesX', 'VirtualPhotography']\n",
            "['GodMorningTuesday']\n",
            "['Fastly']\n",
            "['23JuneUKwideProtest']\n",
            "['sharinhallbarrelhorses', 'shproseriestack', 'whatareyoutrainingin', 'shproseries', 'tack', 'saddles', 'saddlepads', 'bits', 'sharinhall']\n",
            "['FORL1S']\n",
            "['internetdown', 'InternetShutdown']\n",
            "['0X1LOVESONG1stWin', 'txt']\n",
            "['STARPLAY']\n",
            "['PeopleDefenceForce', 'RejectCoupRejectASEAN', 'June8Coup', 'WhatsHappeningInMyanmar']\n",
            "['MyfoodieJDlivexPatrick']\n",
            "['THEBOYZ']\n",
            "['beetle15k']\n",
            "['June7Coup', 'WhatsHappeningInMyanmar']\n",
            "['WeTV']\n",
            "['AlbumEXOdariMimin', 'AlbumEXOdariMimin', 'AlbumEXOdariMimin', 'AlbumEXOdariMimin', 'AlbumEXOdariMimin', 'AlbumEXOdariMimin', 'AlbumEXOdariMimin', 'AlbumEXOdariMimin', 'AlbumEXOdariMimin', 'AlbumEXOdariMimin', 'AlbumEXOdariMimin', 'AlbumEXOdariMimin']\n",
            "['PremiosMTVMIAW', 'MTVLAKPOPTWICE']\n",
            "['RrahulSudhir', 'RiAnsh']\n",
            "['Webull']\n",
            "['CancelAllExams', 'canceluniversityexams2021']\n",
            "['PremiosMTVMIAW', 'MTVLAKPOPTWICE']\n",
            "['EXOArcadeS2_Ep05', 'DONT_FIGHT_THE_FEELING']\n",
            "['PremiosMTVMIAW', 'MTVLAKPOPTWICE']\n"
          ],
          "name": "stdout"
        }
      ]
    },
    {
      "cell_type": "code",
      "metadata": {
        "colab": {
          "base_uri": "https://localhost:8080/"
        },
        "id": "g_9lvxBTgZbQ",
        "outputId": "91202cfa-ea2f-48c8-ace3-baa76f21bd88"
      },
      "source": [
        "from datetime import datetime\n",
        "\n",
        "with requests.request(\"GET\", URL, headers=HEADERS, stream=True) as response:\n",
        "    headers = response.headers\n",
        "    print(\"Appels possibles :\", headers[\"x-rate-limit-limit\"])\n",
        "    print(\"Appels restants :\", headers[\"x-rate-limit-remaining\"])\n",
        "    print(\"Date de ré-initalisation :\", datetime.fromtimestamp(int(headers[\"x-rate-limit-reset\"])))"
      ],
      "id": "g_9lvxBTgZbQ",
      "execution_count": null,
      "outputs": [
        {
          "output_type": "stream",
          "text": [
            "Appels possibles : 50\n",
            "Appels restants : 43\n",
            "Date de ré-initalisation : 2021-06-08 07:33:42\n"
          ],
          "name": "stdout"
        }
      ]
    },
    {
      "cell_type": "markdown",
      "metadata": {
        "id": "e97de9e2"
      },
      "source": [
        "## Création du serveur TCP\n",
        "\n"
      ],
      "id": "e97de9e2"
    },
    {
      "cell_type": "markdown",
      "metadata": {
        "id": "fe74d8fb"
      },
      "source": [
        "<img src=\"https://blent-learning-user-ressources.s3.eu-west-3.amazonaws.com/training/real_time_processing/img/ssc_twitter1.png\" />"
      ],
      "id": "fe74d8fb"
    },
    {
      "cell_type": "code",
      "metadata": {
        "colab": {
          "base_uri": "https://localhost:8080/"
        },
        "id": "1349e7c1",
        "outputId": "e5f74ee9-d39d-416a-87be-dcec14cf845d"
      },
      "source": [
        "%%writefile /tmp/ssc_twitter_tcp_server.py\n",
        "import sys\n",
        "import socket\n",
        "import requests\n",
        "import json\n",
        "import re\n",
        "\n",
        "# TODO : Inscrire son jeton d'accès ici\n",
        "BEARER_TOKEN = \"\"\n",
        "URL = \"https://api.twitter.com/2/tweets/sample/stream?tweet.fields=lang\"\n",
        "HEADERS = {\"Authorization\": \"Bearer {}\".format(BEARER_TOKEN)}\n",
        "\n",
        "sock = socket.socket(socket.AF_INET, socket.SOCK_STREAM)\n",
        "sock.bind((\"127.0.0.1\", 9009))\n",
        "sock.listen()\n",
        "\n",
        "response = requests.request(\"GET\", URL, headers=HEADERS, stream=True)\n",
        "if response.status_code != 200:\n",
        "    print(\"Unable to connect to stream :\")\n",
        "    print(response.content)\n",
        "    sys.exit() \n",
        "\n",
        "while True:\n",
        "    (clientsocket, address) = sock.accept()\n",
        "    with clientsocket:\n",
        "        print('Connection from', address)\n",
        "        while True:\n",
        "            try:\n",
        "                if not response:\n",
        "                    break\n",
        "                for response_line in response.iter_lines():\n",
        "                    if response_line:\n",
        "                        content = json.loads(response_line.decode(\"utf-8\"))\n",
        "                        if content[\"data\"][\"lang\"] != \"en\":  # On ne récupère que les tweets en anglais\n",
        "                            continue\n",
        "\n",
        "                        # On veut au moins un hashtag\n",
        "                        if len(re.findall(r\"#(\\w*[0-9a-zA-Z]+\\w*[0-9a-zA-Z])\", content[\"data\"][\"text\"])) == 0:\n",
        "                            continue\n",
        "                            \n",
        "                        payload = content[\"data\"][\"text\"] + \"\\n\"\n",
        "                        clientsocket.send(payload.encode())\n",
        "            except BrokenPipeError:\n",
        "                print(\"Client\", address, \"disconnected.\")\n",
        "                sys.exit()\n",
        "            except Exception as e:\n",
        "                print(\"Unknown error :\", e)\n",
        "                sys.exit()"
      ],
      "id": "1349e7c1",
      "execution_count": null,
      "outputs": [
        {
          "output_type": "stream",
          "text": [
            "Writing /tmp/ssc_twitter_tcp_server.py\n"
          ],
          "name": "stdout"
        }
      ]
    },
    {
      "cell_type": "markdown",
      "metadata": {
        "id": "3cb33b3a"
      },
      "source": [
        "## Application Spark"
      ],
      "id": "3cb33b3a"
    },
    {
      "cell_type": "code",
      "metadata": {
        "id": "19a7f170"
      },
      "source": [
        "import os\n",
        "import time\n",
        "import findspark\n",
        "\n",
        "# Spécifie le chemin où est stocké Spark\n",
        "os.environ[\"JAVA_HOME\"] = \"/usr/lib/jvm/java-8-openjdk-amd64\"\n",
        "os.environ[\"SPARK_HOME\"] = \"/content/spark-3.0.2-bin-hadoop2.7\"\n",
        "\n",
        "findspark.init()  # Trouve les exécutables dans le dossier SPARK_HOME\n",
        "\n",
        "from pyspark import SparkContext\n",
        "from pyspark.streaming import StreamingContext"
      ],
      "id": "19a7f170",
      "execution_count": null,
      "outputs": []
    },
    {
      "cell_type": "code",
      "metadata": {
        "id": "1180fce0"
      },
      "source": [
        "import subprocess\n",
        "import socket\n",
        "import signal\n",
        "\n",
        "def start_tcp_server():\n",
        "    stest = socket.socket(socket.AF_INET, socket.SOCK_STREAM)\n",
        "    result_of_check = stest.connect_ex((\"127.0.0.1\", 9009))\n",
        "\n",
        "    # Cette condition permet de savoir si le port 9009 n'est pas déjà utilisé par un autre processus\n",
        "    if result_of_check != 0:\n",
        "        server = subprocess.Popen(\"python /tmp/ssc_twitter_tcp_server.py\", shell=True, preexec_fn=os.setsid)\n",
        "    else:\n",
        "        print(\"Le port 9009 est déjà utilisé : il faut stopper le serveur avant de le relancer.\")\n",
        "\n",
        "    stest.close()\n",
        "\n",
        "start_tcp_server()"
      ],
      "id": "1180fce0",
      "execution_count": null,
      "outputs": []
    },
    {
      "cell_type": "code",
      "metadata": {
        "scrolled": true,
        "colab": {
          "base_uri": "https://localhost:8080/"
        },
        "id": "725bc366",
        "outputId": "8ff1b8ad-74bc-4c67-a0e3-f6903521acc5"
      },
      "source": [
        "import re\n",
        "import time\n",
        "\n",
        "def get_hashtags(tweet):\n",
        "    hashtags = re.findall(r\"#(\\w*[0-9a-zA-Z]+\\w*[0-9a-zA-Z])\", tweet)\n",
        "    hashtags = [(x.lower(), 1) for x in hashtags]\n",
        "    return hashtags\n",
        "\n",
        "def process_tweets():\n",
        "    start_tcp_server()\n",
        "    time.sleep(1)\n",
        "    \n",
        "    sc = SparkContext(master=\"local[*]\")  # Crée un SparkContext local\n",
        "    ssc = StreamingContext(sc, 1)  # Fréquence de rafraîchissement\n",
        "    \n",
        "    tweets = ssc.socketTextStream(\"127.0.0.1\", 9009)\n",
        "    hashtags = tweets.flatMap(get_hashtags)\n",
        "    \n",
        "    hashtags.pprint()\n",
        "    \n",
        "    ssc.start()\n",
        "    time.sleep(3)\n",
        "    ssc.stop()\n",
        "    \n",
        "process_tweets()"
      ],
      "id": "725bc366",
      "execution_count": null,
      "outputs": [
        {
          "output_type": "stream",
          "text": [
            "-------------------------------------------\n",
            "Time: 2021-06-08 11:41:28\n",
            "-------------------------------------------\n",
            "\n",
            "-------------------------------------------\n",
            "Time: 2021-06-08 11:41:29\n",
            "-------------------------------------------\n",
            "('myfoodiejdlivexpatrick', 1)\n",
            "('kai', 1)\n",
            "('superfanfriday', 1)\n",
            "('zeroplastic', 1)\n",
            "('projectparadise', 1)\n",
            "('xiaozhan', 1)\n",
            "('xiaozhanxusmile', 1)\n",
            "\n",
            "-------------------------------------------\n",
            "Time: 2021-06-08 11:41:30\n",
            "-------------------------------------------\n",
            "('ahgasiste', 1)\n",
            "('freepalestine', 1)\n",
            "('freepalastin', 1)\n",
            "('whatshappeninginmyanmar', 1)\n",
            "('june8coup', 1)\n",
            "('premiosmtvmiaw', 1)\n",
            "('mtvlafandomarmy', 1)\n",
            "\n",
            "-------------------------------------------\n",
            "Time: 2021-06-08 11:41:31\n",
            "-------------------------------------------\n",
            "('troll', 1)\n",
            "('rejectcouprejectasean', 1)\n",
            "('june8coup', 1)\n",
            "('whatshappeninginmyanmar', 1)\n",
            "('imscudetto', 1)\n",
            "('iminter', 1)\n",
            "\n"
          ],
          "name": "stdout"
        }
      ]
    },
    {
      "cell_type": "markdown",
      "metadata": {
        "id": "803b9228"
      },
      "source": [
        "### Window Functions en streaming"
      ],
      "id": "803b9228"
    },
    {
      "cell_type": "code",
      "metadata": {
        "scrolled": true,
        "colab": {
          "base_uri": "https://localhost:8080/",
          "height": 522
        },
        "id": "841cb0f2",
        "outputId": "1eeff137-7bb5-4a73-c378-761c87210cce"
      },
      "source": [
        "def process_tweets_windowed():\n",
        "    start_tcp_server()\n",
        "    time.sleep(1)\n",
        "    \n",
        "    sc = SparkContext(master=\"local[*]\")  # Crée un SparkContext local\n",
        "    sc.setCheckpointDir('/tmp/spark/checkpoints')\n",
        "    ssc = StreamingContext(sc, 1)\n",
        "    \n",
        "    tweets = ssc.socketTextStream(\"127.0.0.1\", 9009)\n",
        "    hashtags = tweets.flatMap(get_hashtags)\n",
        "    reduced = hashtags \\\n",
        "        .reduceByKeyAndWindow(\n",
        "            lambda x, y: x + y,\n",
        "            lambda x, y: x + y,\n",
        "            30,\n",
        "            1\n",
        "        ) \\\n",
        "        .transform(\n",
        "            lambda rdd: rdd.sortBy(lambda x: x[1], ascending=False)\n",
        "        )\n",
        "    \n",
        "    reduced.pprint()\n",
        "    \n",
        "    ssc.start()\n",
        "    time.sleep(60)\n",
        "    ssc.stop()\n",
        "    \n",
        "process_tweets_windowed()"
      ],
      "id": "841cb0f2",
      "execution_count": null,
      "outputs": [
        {
          "output_type": "stream",
          "text": [
            "Le port 9009 est déjà utilisé : il faut stopper le serveur avant de le relancer.\n",
            "-------------------------------------------\n",
            "Time: 2021-06-08 11:48:45\n",
            "-------------------------------------------\n",
            "('2021btsfesta', 2)\n",
            "('mtvlakpoptwice', 2)\n",
            "('rejectcouprejectasean', 2)\n",
            "('fridaylivestream', 2)\n",
            "('premiosmtvmiaw', 2)\n",
            "('100asianheartthrobs2021', 2)\n",
            "('june8coup', 2)\n",
            "('whatshappeninginmyanmar', 2)\n",
            "('standwithstudents', 1)\n",
            "('fullyloaded', 1)\n",
            "...\n",
            "\n"
          ],
          "name": "stdout"
        },
        {
          "output_type": "error",
          "ename": "ValueError",
          "evalue": "ignored",
          "traceback": [
            "\u001b[0;31m---------------------------------------------------------------------------\u001b[0m",
            "\u001b[0;31mValueError\u001b[0m                                Traceback (most recent call last)",
            "\u001b[0;32m<ipython-input-30-03ca9240128e>\u001b[0m in \u001b[0;36m<module>\u001b[0;34m()\u001b[0m\n\u001b[1;32m     25\u001b[0m     \u001b[0mssc\u001b[0m\u001b[0;34m.\u001b[0m\u001b[0mstop\u001b[0m\u001b[0;34m(\u001b[0m\u001b[0;34m)\u001b[0m\u001b[0;34m\u001b[0m\u001b[0;34m\u001b[0m\u001b[0m\n\u001b[1;32m     26\u001b[0m \u001b[0;34m\u001b[0m\u001b[0m\n\u001b[0;32m---> 27\u001b[0;31m \u001b[0mprocess_tweets_windowed\u001b[0m\u001b[0;34m(\u001b[0m\u001b[0;34m)\u001b[0m\u001b[0;34m\u001b[0m\u001b[0;34m\u001b[0m\u001b[0m\n\u001b[0m",
            "\u001b[0;32m<ipython-input-30-03ca9240128e>\u001b[0m in \u001b[0;36mprocess_tweets_windowed\u001b[0;34m()\u001b[0m\n\u001b[1;32m      3\u001b[0m     \u001b[0mtime\u001b[0m\u001b[0;34m.\u001b[0m\u001b[0msleep\u001b[0m\u001b[0;34m(\u001b[0m\u001b[0;36m1\u001b[0m\u001b[0;34m)\u001b[0m\u001b[0;34m\u001b[0m\u001b[0;34m\u001b[0m\u001b[0m\n\u001b[1;32m      4\u001b[0m \u001b[0;34m\u001b[0m\u001b[0m\n\u001b[0;32m----> 5\u001b[0;31m     \u001b[0msc\u001b[0m \u001b[0;34m=\u001b[0m \u001b[0mSparkContext\u001b[0m\u001b[0;34m(\u001b[0m\u001b[0mmaster\u001b[0m\u001b[0;34m=\u001b[0m\u001b[0;34m\"local[*]\"\u001b[0m\u001b[0;34m)\u001b[0m  \u001b[0;31m# Crée un SparkContext local\u001b[0m\u001b[0;34m\u001b[0m\u001b[0;34m\u001b[0m\u001b[0m\n\u001b[0m\u001b[1;32m      6\u001b[0m     \u001b[0msc\u001b[0m\u001b[0;34m.\u001b[0m\u001b[0msetCheckpointDir\u001b[0m\u001b[0;34m(\u001b[0m\u001b[0;34m'/tmp/spark/checkpoints'\u001b[0m\u001b[0;34m)\u001b[0m\u001b[0;34m\u001b[0m\u001b[0;34m\u001b[0m\u001b[0m\n\u001b[1;32m      7\u001b[0m     \u001b[0mssc\u001b[0m \u001b[0;34m=\u001b[0m \u001b[0mStreamingContext\u001b[0m\u001b[0;34m(\u001b[0m\u001b[0msc\u001b[0m\u001b[0;34m,\u001b[0m \u001b[0;36m1\u001b[0m\u001b[0;34m)\u001b[0m\u001b[0;34m\u001b[0m\u001b[0;34m\u001b[0m\u001b[0m\n",
            "\u001b[0;32m/content/spark-3.0.2-bin-hadoop2.7/python/pyspark/context.py\u001b[0m in \u001b[0;36m__init__\u001b[0;34m(self, master, appName, sparkHome, pyFiles, environment, batchSize, serializer, conf, gateway, jsc, profiler_cls)\u001b[0m\n\u001b[1;32m    131\u001b[0m                 \" is not allowed as it is a security risk.\")\n\u001b[1;32m    132\u001b[0m \u001b[0;34m\u001b[0m\u001b[0m\n\u001b[0;32m--> 133\u001b[0;31m         \u001b[0mSparkContext\u001b[0m\u001b[0;34m.\u001b[0m\u001b[0m_ensure_initialized\u001b[0m\u001b[0;34m(\u001b[0m\u001b[0mself\u001b[0m\u001b[0;34m,\u001b[0m \u001b[0mgateway\u001b[0m\u001b[0;34m=\u001b[0m\u001b[0mgateway\u001b[0m\u001b[0;34m,\u001b[0m \u001b[0mconf\u001b[0m\u001b[0;34m=\u001b[0m\u001b[0mconf\u001b[0m\u001b[0;34m)\u001b[0m\u001b[0;34m\u001b[0m\u001b[0;34m\u001b[0m\u001b[0m\n\u001b[0m\u001b[1;32m    134\u001b[0m         \u001b[0;32mtry\u001b[0m\u001b[0;34m:\u001b[0m\u001b[0;34m\u001b[0m\u001b[0;34m\u001b[0m\u001b[0m\n\u001b[1;32m    135\u001b[0m             self._do_init(master, appName, sparkHome, pyFiles, environment, batchSize, serializer,\n",
            "\u001b[0;32m/content/spark-3.0.2-bin-hadoop2.7/python/pyspark/context.py\u001b[0m in \u001b[0;36m_ensure_initialized\u001b[0;34m(cls, instance, gateway, conf)\u001b[0m\n\u001b[1;32m    341\u001b[0m                         \u001b[0;34m\" created by %s at %s:%s \"\u001b[0m\u001b[0;34m\u001b[0m\u001b[0;34m\u001b[0m\u001b[0m\n\u001b[1;32m    342\u001b[0m                         % (currentAppName, currentMaster,\n\u001b[0;32m--> 343\u001b[0;31m                             callsite.function, callsite.file, callsite.linenum))\n\u001b[0m\u001b[1;32m    344\u001b[0m                 \u001b[0;32melse\u001b[0m\u001b[0;34m:\u001b[0m\u001b[0;34m\u001b[0m\u001b[0;34m\u001b[0m\u001b[0m\n\u001b[1;32m    345\u001b[0m                     \u001b[0mSparkContext\u001b[0m\u001b[0;34m.\u001b[0m\u001b[0m_active_spark_context\u001b[0m \u001b[0;34m=\u001b[0m \u001b[0minstance\u001b[0m\u001b[0;34m\u001b[0m\u001b[0;34m\u001b[0m\u001b[0m\n",
            "\u001b[0;31mValueError\u001b[0m: Cannot run multiple SparkContexts at once; existing SparkContext(app=pyspark-shell, master=local[*]) created by __init__ at <ipython-input-29-3d818b4358d8>:5 "
          ]
        }
      ]
    },
    {
      "cell_type": "code",
      "metadata": {
        "id": "4127c855"
      },
      "source": [
        ""
      ],
      "id": "4127c855",
      "execution_count": null,
      "outputs": []
    }
  ]
}